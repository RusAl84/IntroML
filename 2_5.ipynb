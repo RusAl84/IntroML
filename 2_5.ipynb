{
  "nbformat": 4,
  "nbformat_minor": 0,
  "metadata": {
    "anaconda-cloud": {},
    "kernelspec": {
      "name": "python3",
      "display_name": "Python 3"
    },
    "colab": {
      "provenance": [],
      "include_colab_link": true
    },
    "language_info": {
      "name": "python"
    },
    "accelerator": "GPU"
  },
  "cells": [
    {
      "cell_type": "markdown",
      "metadata": {
        "id": "view-in-github",
        "colab_type": "text"
      },
      "source": [
        "<a href=\"https://colab.research.google.com/github/RusAl84/IntroML/blob/master/2_5.ipynb\" target=\"_parent\"><img src=\"https://colab.research.google.com/assets/colab-badge.svg\" alt=\"Open In Colab\"/></a>"
      ]
    },
    {
      "cell_type": "markdown",
      "metadata": {
        "id": "CgyWojKXaeie"
      },
      "source": [
        "# Виды сверток\n",
        "\n"
      ]
    },
    {
      "cell_type": "markdown",
      "metadata": {
        "id": "QW6MtMjAaeir"
      },
      "source": [
        "# Двумерные свертки\n",
        "Мы уже знакомы с понятием свертки, но давайте углубимся в понимание ее работы, познакомимся с видами и параметрами сверток. Для наглядности, мы будем работать с **двумерными** свертками, но все сказанное здесь применимо к сверткам любой размерности.\n",
        "\n",
        "Вспомним, как работают свертки. В отличии от полносвязного слоя, который умножает все входы на веса, в свертке мы умножаем на веса только избранные входы. Какие именно зависит от вида и параметров свертки. Веса свертки записываются в массив, **ядро** (kernel). В зависимости от размерности этого массива мы получим свертки разной размерности, одномерные, двумерные, трехмерные. Самые распространенные это двумерные свертки, они естественны для работы с двумерными массивами, которыми обычно представляются изображения.\n",
        "\n",
        "В полносвязном слое нейронов, если мы поменяем местами входы (не забыв про веса), то это никак не повлияет на результат, однако в свертке, изменение порядка входов приведет к изменению результата - свертки чувствительны к **порядку** элементов.\n",
        "\n",
        "Ниже показан двумерный массив 8x8 описывающий некоторое изображение в бинарных пикселях (1 - белый, 0 - черный), это наш вход.\n",
        "\n",
        "![img](https://drive.google.com/uc?id=15kNAHVdEG-kb5-KS39p4BFNeOgdLYaIr)\n",
        "\n",
        "Ядро свертки является двумерным массивом, размером 3*3:\n",
        "\n",
        "$\n",
        "kernel=\n",
        "\\begin{bmatrix}\n",
        "     1          & 0      & 1     \\\\\n",
        "     0          & 1    & 0     \\\\\n",
        "     1          & 0    & 1\n",
        "\\end{bmatrix}\n",
        "\\\\\n",
        "$\n",
        "\n",
        "Ниже показана анимация применения этого ядра к входному массиву:\n",
        "- берется подмассив (оранжевый) размером 3*3 из входного массива,\n",
        "- его значения умножаются поэлементно на значения из ядра, и все такие произведения складываются, это, по-сути, операция скалярного произведения векторов.\n",
        "- получается одно число, элемент, результата (розовый).\n",
        "- потом берется другой подмассив, смещая окошко выбора по горизонтали и вертикали и процесс повторяется. Результаты записываются в массив, номера элементов определяются смещением окошка выбора. Раз смещали окошко по двум координатам, то и результат - двумерный массив. Его называют **картой признаков** (feature map)."
      ]
    },
    {
      "cell_type": "markdown",
      "metadata": {
        "id": "hRXNlQWUaeir"
      },
      "source": [
        "![img](https://drive.google.com/uc?id=1GMGRr9CFX-_zJ8pHdFfKtIAUDWVjobiy)\n",
        " <a href=\"http://cs231n.github.io/convolutional-networks/\">ref</a></center>  \n",
        "\n",
        "\n",
        "Здесь, используя ядро 3 * 3, применив его ко входу 5 * 5, получили результат размером 4 * 4. Посчитайте самостоятельно для ядер другого размера. Ядра не обязаны быть квадратными.\n",
        "\n",
        "Вспомним также про параметры **набивки** (padding), когда мы добавляем фиктивные элементы к входному массиву, чтобы решулировать размер выхода и **сдвига** (stride), когда мы устанавливаем насколько элементов сдвигать окно выбора элементов входа. Несколько ядер могут быть объединены в **фильтр**, тогда результаты их складываются и ко всем элементам добавляется смещение (bias). Мы можем применять в одному и тому же входу несколько фильтров."
      ]
    },
    {
      "cell_type": "markdown",
      "metadata": {
        "id": "-SByRACRaei7"
      },
      "source": [
        "# Свертки в TensorFlow"
      ]
    },
    {
      "cell_type": "markdown",
      "metadata": {
        "id": "bGlvdNo0aei8"
      },
      "source": [
        "Свертки реализованы во многих библиотеках, например в numpy, tensorflow, keras и других.  Давайте более детально познакомимся с некоторыми параметрами сверток.\n",
        "\n",
        "Принята такая интерпретация размерностей массивов (в некоторых библиотеках мы можем устанавливать это сами) для работы с изображениями:\n",
        "\n",
        "Для ядер:\n",
        "- первые два измерения - пространственные, ширина и высота.\n",
        "- третье измерение - каналы.\n",
        "- четвертое измерение - фильтры.\n",
        "\n",
        "Для входов и выходов:\n",
        "- первое измерение - примеры, обучающие или тестовые.\n",
        "- второе и третье - пространственные, ширина и высота.\n",
        "- четвертое измерение - каналы. Как вы понимаете, если мы применяем более одного фильтра, то фильтры сворачивают каналы входа, а сами являются каналами выхода.\n",
        "\n",
        "В Keras (tensorflow) за создание двумерной свертки отвечает функция [Conv2D](https://keras.io/api/layers/convolution_layers/convolution2d/)\n",
        "\n",
        "```\n",
        "tf.keras.layers.Conv2D(\n",
        "    filters,\n",
        "    kernel_size,\n",
        "    strides=(1, 1),\n",
        "    padding=\"valid\",\n",
        "    data_format=None,\n",
        "    dilation_rate=(1, 1),\n",
        "    groups=1,\n",
        "    activation=None,\n",
        "    use_bias=True,\n",
        "    kernel_initializer=\"glorot_uniform\",\n",
        "    bias_initializer=\"zeros\",\n",
        "    kernel_regularizer=None,\n",
        "    bias_regularizer=None,\n",
        "    activity_regularizer=None,\n",
        "    kernel_constraint=None,\n",
        "    bias_constraint=None,\n",
        "    **kwargs\n",
        ")\n",
        "```\n",
        "У нее много параметров, давайте посмотрим на них. Сделаем вход размера (4, 28, 28, 12) и посмотрим, какой получится выход при разных значениях параметров.\n",
        "\n"
      ]
    },
    {
      "cell_type": "code",
      "metadata": {
        "colab": {
          "base_uri": "https://localhost:8080/"
        },
        "id": "LyTmYZfYkR3t",
        "outputId": "a0794dde-0200-4d3e-d090-40df67b96010"
      },
      "source": [
        "import tensorflow as tf # подключаем библиотеку\n",
        "input_shape = (4, 28, 28, 12) # размер входа\n",
        "x = tf.random.normal(input_shape) # делаем вход нужного размера из случайных чисел\n",
        "print(x.shape) # размер полученного массива"
      ],
      "execution_count": null,
      "outputs": [
        {
          "output_type": "stream",
          "name": "stdout",
          "text": [
            "(4, 28, 28, 12)\n"
          ]
        }
      ]
    },
    {
      "cell_type": "markdown",
      "metadata": {
        "id": "6A-Oa8pBkvrW"
      },
      "source": [
        "- **filters**: целое число, устанавливающее число фильтров. Оно же означает число каналов выхода. Число ядер в каждом фильтре отределяется числом каналов входа. Это первый обязательный аргумент. Обязательным является и второй, kernel_size. Пробуйте менять первый аргумент и смотрите как изменяется выход."
      ]
    },
    {
      "cell_type": "code",
      "metadata": {
        "colab": {
          "base_uri": "https://localhost:8080/"
        },
        "id": "ewaZ6whik0We",
        "outputId": "d802b9e9-95e3-42c5-b3b9-afbfd7480371"
      },
      "source": [
        "y = tf.keras.layers.Conv2D(10,3)(x) # делаем свертку с 10 фильтрами, каждый с ядрами 3*3.\n",
        "print(y.shape) # размер полученного массива"
      ],
      "execution_count": null,
      "outputs": [
        {
          "output_type": "stream",
          "name": "stdout",
          "text": [
            "(4, 26, 26, 10)\n"
          ]
        }
      ]
    },
    {
      "cell_type": "markdown",
      "metadata": {
        "id": "7b2wxqP7mk-B"
      },
      "source": [
        "- **kernel_size**: целое число или пара чисел, определяющая размер ядра в фильтре (высота, ширина). Это обязательный аргумент. Если одно число, то ядро квадратное. Пробуйте разные размеры ядра. Предположите заранее размер выхода, а потом проверьте расчетом."
      ]
    },
    {
      "cell_type": "code",
      "metadata": {
        "colab": {
          "base_uri": "https://localhost:8080/"
        },
        "id": "51n0QKM3mlka",
        "outputId": "576b8c3f-0cce-4893-ae24-a9b96900954e"
      },
      "source": [
        "y = tf.keras.layers.Conv2D(1,(2,3))(x) # делаем свертку с 1 фильтром, с ядром 2*3.\n",
        "print(y.shape) # размер полученного массива"
      ],
      "execution_count": null,
      "outputs": [
        {
          "output_type": "stream",
          "name": "stdout",
          "text": [
            "(4, 27, 26, 1)\n"
          ]
        }
      ]
    },
    {
      "cell_type": "markdown",
      "metadata": {
        "id": "aTzvrDOLnNG_"
      },
      "source": [
        "- **strides:** сдвиг, целое число или пара чисел, определяющее на сколько элементов будет перемещаться окно выбора. Если одно число, то сдвиги по обеим осям одинаковые. По умолчанию (1,1). Пробуйте разные сдвиги. Предположите заранее размер выхода, а потом проверьте расчетом."
      ]
    },
    {
      "cell_type": "code",
      "metadata": {
        "colab": {
          "base_uri": "https://localhost:8080/"
        },
        "id": "gzELOC1AnNsk",
        "outputId": "195dbe64-af44-44d2-dc95-39eb89a9e3d7"
      },
      "source": [
        "y = tf.keras.layers.Conv2D(1,2, strides=(2,3))(x) # делаем свертку с 1 фильтром, с ядром 2*2, но сдвиг по одной оси 2, а по другой 3.\n",
        "print(y.shape) # размер полученного массива"
      ],
      "execution_count": null,
      "outputs": [
        {
          "output_type": "stream",
          "name": "stdout",
          "text": [
            "(4, 14, 9, 1)\n"
          ]
        }
      ]
    },
    {
      "cell_type": "markdown",
      "metadata": {
        "id": "Z-EAuL3PkTle"
      },
      "source": [
        "- **padding**: набивка, принимает значения \"valid\" или \"same\". \"valid\" (по умолчанию) означает нет набивки. \"same\" означает, что набивка такая, что пространственная размерность выхода такая же как у входа. Проверьте оба варианта."
      ]
    },
    {
      "cell_type": "code",
      "metadata": {
        "colab": {
          "base_uri": "https://localhost:8080/"
        },
        "id": "YT7gnvVjkSzN",
        "outputId": "8db5b03f-75aa-4a05-f2d8-c09763455387"
      },
      "source": [
        "y = tf.keras.layers.Conv2D(1,2, padding='same')(x) # делаем свертку с 1 фильтром, с ядром 2*2, но набивка 'same'.\n",
        "print(y.shape) # размер полученного массива"
      ],
      "execution_count": null,
      "outputs": [
        {
          "output_type": "stream",
          "name": "stdout",
          "text": [
            "(4, 28, 28, 1)\n"
          ]
        }
      ]
    },
    {
      "cell_type": "markdown",
      "metadata": {
        "id": "tEUf9xubpdNG"
      },
      "source": [
        "- **groups**: позволяет разбить каналы входа на указанное число групп, и использовать их как будто это отдельные входы со своими фильтрами. Полезно для более простой обработки многоканальных сверток. Пробуйте разные параметры.\n",
        "\n",
        "Число каналов входа и число фильтров должно делиться на groups. Например, если вход 12 канальный, фильтров 6, а группа одна, то каждый фильтр будет принимать 12 канальный вход (значит в нем будет 12 ядер). Если групп 3, то в этом случае каждый из 6 фильтров будет принимать только 4 своих каналов. Размер выхода будет такой же, но число обучаемых параметров - другое. Не работает на CPU.\n",
        "\n",
        "![img](https://images1.russianblogs.com/207/df/dfc8a0eea21789e834a3c7e1b6747f17.png )\n",
        "![img](https://images2.russianblogs.com/387/aa/aaad0eee14c1ec46d4b2914737ed8ae3.png)   "
      ]
    },
    {
      "cell_type": "code",
      "metadata": {
        "colab": {
          "base_uri": "https://localhost:8080/"
        },
        "id": "PUN1rW7bqEiO",
        "outputId": "b94acf27-92b5-45bf-f7cb-e515b395ad78"
      },
      "source": [
        "# Одна группа\n",
        "layer=tf.keras.layers.Conv2D(6,2,groups=1)# делаем свертку с 6 фильтрами, с ядром 2*2, с одной группой (оно же по умолчанию).\n",
        "y = layer(x)\n",
        "print('1 group conv')\n",
        "print('Kernel size: ',layer.trainable_variables[0].shape) # размер массива весов ядер (это свойство доступно после проведения расчетов, но не до)\n",
        "print('Bias   size:', layer.trainable_variables[1].shape) # размер массива смещений ядер (это свойство доступно после проведения расчетов, но не до)\n",
        "print('Output size:', y.shape) # размер полученного массива\n",
        "\n",
        "# Три группы\n",
        "layer=tf.keras.layers.Conv2D(6,2,groups=3) # делаем свертку с 6 фильтрами, с ядром 2*2, с тремя группами (значит каждому ядру достанется по 4 канала).\n",
        "y = layer(x)\n",
        "print()\n",
        "print('3 group conv')\n",
        "print('Kernel size: ',layer.trainable_variables[0].shape) # размер массива весов ядер (это свойство доступно после проведения расчетов, но не до)\n",
        "print('Bias   size:', layer.trainable_variables[1].shape) # размер массива смещений ядер (это свойство доступно после проведения расчетов, но не до)\n",
        "print('Output size:', y.shape) # размер полученного массива\n",
        "\n"
      ],
      "execution_count": null,
      "outputs": [
        {
          "output_type": "stream",
          "name": "stdout",
          "text": [
            "1 group conv\n",
            "Kernel size:  (2, 2, 12, 6)\n",
            "Bias   size: (6,)\n",
            "Output size: (4, 27, 27, 6)\n",
            "\n",
            "3 group conv\n",
            "Kernel size:  (2, 2, 4, 6)\n",
            "Bias   size: (6,)\n",
            "Output size: (4, 27, 27, 6)\n"
          ]
        }
      ]
    },
    {
      "cell_type": "markdown",
      "metadata": {
        "id": "TdqRq9AXv20j"
      },
      "source": [
        "- **activation**: можно указать функцию активации для слоя. По умолчанию не применяется.\n",
        "\n",
        "Другие аргументы смотри в документации."
      ]
    },
    {
      "cell_type": "markdown",
      "metadata": {
        "id": "jH-3FWzEx0Wm"
      },
      "source": [
        "## Распределенная свертка\n",
        "Во всех примерах сверток выше мы брали соседние элементы массива входов для умножения на веса ядер. Но почему? Нам никто не мешает брать эти элементы не подряд, а, скажем, через один. Так получается распределенная (dilated) свертка.\n",
        "\n",
        "Обычная свертка:\n",
        "\n",
        "![img](https://drive.google.com/uc?id=1b1g3EHRPBsFBXEFXyzJv5hjpBJMDOjpc)\n",
        "\n",
        "Распределенная свертка:\n",
        "\n",
        "![img](https://drive.google.com/uc?id=1VQ_GuYh32RpIBq1N1y1rvPbDQ5Shtz6c)\n",
        "\n",
        "Смысл ее в том, что она охватывает гораздо больший подмассив входов. Согласитесь, ведь не всегда соседние пиксели важны, и нет смысла их все обрабатывать. На картинке ниже показаны свертки с частотой один (обычная), два и четыре, (_примененные последовательно к результатам предыдущей_), сравните размер их окошек. Такие свертки помогают проще работать с изображениями разного масштаба.\n",
        "\n",
        "![img](https://drive.google.com/uc?id=1GYMjAuUe_TZJEboRP0ZB9ZvEogEd2_TG)\n",
        "\n"
      ]
    },
    {
      "cell_type": "markdown",
      "metadata": {
        "id": "zxwM2e5-2K6c"
      },
      "source": [
        "Аргумент\n",
        "- **dilation_rate**: показвает частоту распределения свертки, целое число, или пара чисел. В текущей реализации не совместимо со stride не равным 1.   "
      ]
    },
    {
      "cell_type": "code",
      "metadata": {
        "colab": {
          "base_uri": "https://localhost:8080/"
        },
        "id": "GFckp6AVwCHA",
        "outputId": "72044a3e-cf19-4ce4-ef64-2b4ef36b5a6e"
      },
      "source": [
        "layer=tf.keras.layers.Conv2D(1,3,dilation_rate=1)# делаем свертку с 1 фильтром, с ядром 3*3, с частотой 1 (оно же по умолчанию).\n",
        "y = layer(x)\n",
        "print(y.shape) # размер полученного массива\n",
        "\n",
        "layer=tf.keras.layers.Conv2D(1,3,dilation_rate=4)# делаем свертку с 1 фильтром, с ядром 3*3, с частотой 4.\n",
        "y = layer(x)\n",
        "print(y.shape) # размер полученного массива\n",
        "\n"
      ],
      "execution_count": null,
      "outputs": [
        {
          "output_type": "stream",
          "name": "stdout",
          "text": [
            "(4, 26, 26, 1)\n",
            "(4, 20, 20, 1)\n"
          ]
        }
      ]
    },
    {
      "cell_type": "markdown",
      "metadata": {
        "id": "zlcvVmHP5X3C"
      },
      "source": [
        "# Транспонированная свертка\n",
        "Как мы видели, пространственный размер выхода обычной свертки меньше размера входа. Сдвиг позволяет его уменьшить еще существеннее. Но если нам надо наоборот, увеличить размер выхода? На помощь придет **транспонированная свертка**. В одном варианте объединили идеи набивки и распределения.\n",
        "\n",
        "![img](https://drive.google.com/uc?id=1M00SUu0SQ3XMXjEEolxGxKOLmRMzGVKA)\n",
        "\n",
        "Элементы входа (синие) распределяются, между ними добавляются пустые элементы (нули), набивка (пунктир). И уже к этому массиву применяется свертка. Как видите выход (зеленый) получился размером больше. Часто транспонированную свертку называют (неправильно) **разверткой** (deconvolution). Правильно говорить, что эта операция похожа на развертку. Реальные развертки (развертка - обратная операция по отношению к свертке) гораздо сложнее, но, к счастью, они нам и не нужны для многих задач.\n",
        "\n",
        "\n",
        "Вариант транспонированной свертки [подробности](https://medium.com/apache-mxnet/transposed-convolutions-explained-with-ms-excel-52d13030c7e8).\n",
        "Как вообще из одного числа сделать 9? Скопировать!\n",
        "\n",
        "Давайте будем копировать (размножать) входной элемент заданное количество раз, а потом сложим значения, полученные от копирования разных входов.\n",
        "\n",
        "![img](https://miro.medium.com/max/977/1*kOThnLR8Fge_AJcHrkR3dg.gif)\n",
        "\n",
        "Чтобы эта опреация была обучаемая, возьмем ядро и будем умножать на него (поэлементно) размноженный вход.\n",
        "Если посмотреть, какие элементы входа влияют на конкретный элемент выхода\n",
        "\n",
        "![img](https://miro.medium.com/max/3349/1*yoQ62ckovnGYV2vSIq9q4g.gif)\n",
        "\n",
        "и с какими весами они идут, то увидим, что ядро симметрично отразилось (транспонировалось).  \n",
        "\n",
        "![img](https://miro.medium.com/max/977/1*HnxnJDq-IgsSS0q3Lut4xA.gif)\n",
        "\n",
        "В Keras за такую свертку отвечает  [Conv2DTranspose](https://keras.io/api/layers/convolution_layers/convolution2d_transpose/), аргументы которой (это ведь тоже свертка) очень похожи на Conv2D.\n",
        "\n"
      ]
    },
    {
      "cell_type": "code",
      "metadata": {
        "colab": {
          "base_uri": "https://localhost:8080/"
        },
        "id": "45rd04HI6Buv",
        "outputId": "a0be58c1-d45d-4d0b-9629-cf9dc8debcc2"
      },
      "source": [
        "layer=tf.keras.layers.Conv2D(1,3,strides=2)# делаем свертку с 1 фильтром, с ядром 3*3, со сдвигом 2.\n",
        "y = layer(x)\n",
        "print(y.shape) # размер полученного массива\n",
        "\n",
        "layer=tf.keras.layers.Conv2DTranspose(1,3,strides=2)# делаем транспонированную свертку с 1 фильтром, с ядром 3*3, со сдвигом 2, частотой 1\n",
        "y = layer(x)\n",
        "print(y.shape) # размер полученного массива\n",
        "\n",
        "layer=tf.keras.layers.Conv2DTranspose(1,3,dilation_rate=2)# делаем транспонированную свертку с 1 фильтром, с ядром 3*3, со сдвигом 1, частотой 2\n",
        "y = layer(x)\n",
        "print(y.shape) # размер полученного массива\n"
      ],
      "execution_count": null,
      "outputs": [
        {
          "output_type": "stream",
          "name": "stdout",
          "text": [
            "(4, 13, 13, 1)\n",
            "(4, 57, 57, 1)\n",
            "(4, 32, 32, 1)\n"
          ]
        }
      ]
    },
    {
      "cell_type": "markdown",
      "metadata": {
        "id": "Wpg4xsHxA71T"
      },
      "source": [
        "# Разделимые свертки\n",
        "В многослойном персетпроне мы видели, что применять подряд два слоя с линейной функцией активации бессмысленно, они эквивалентны одному. А что в свертках? Свертки различаются между собой не только весами ядер, но и тем, к каким именно элементам они применяются. Например, можно применить свертки к пространственным измерениям, а потом к каналам или наоборот. И получатся разные результаты.\n",
        "\n",
        "Такие свертки назвали разделимые (divided или separable) и они нашли очень большое применение из-за их вычислительной эффективности.\n",
        "\n",
        "Можно придумать разные варианты таких сверток, реализован вариант [SeparableConv2D](https://keras.io/api/layers/convolution_layers/separable_convolution2d/) в котором сначала каждый канал сворачивается со своим ядром, а результат, сворачивается уже вдоль каналов сверткой 1 * 1. Это не тоже самое что использовать несколько фильтров. Сравните два варианта, обычная свертка с 6 фильтрами и разделимая. У обычной каждый из 6 фильтров имеет размер ядер 2 * 2 * 12. В разделимой из 6 фильтров есть 12 общих пространственных ядер 2 * 2  и 6 отдельных ядер размером 12 * 1, по одному для каждого фильтра. Сравните число весов, причем размер результата такой же. Меньше весов - быстрей обучать. Разделимые свертки используют, когда надо считать быстро, например на мобильных устройствах.         \n",
        "\n",
        "![img](https://drive.google.com/uc?id=1CUxOExwLDMyxDCRTIbP-8ltw7e2sgCk-)\n"
      ]
    },
    {
      "cell_type": "code",
      "metadata": {
        "colab": {
          "base_uri": "https://localhost:8080/"
        },
        "id": "Ix_Y_PR3DqQ3",
        "outputId": "4b8f3e5d-c426-4aa2-df23-7510b99c445e"
      },
      "source": [
        "# обычная свертка с 6 фильтрами\n",
        "layer=tf.keras.layers.Conv2D(6,2)\n",
        "y = layer(x)\n",
        "print('Conv2D')\n",
        "print('Kernel size        ',layer.trainable_variables[0].shape) # размер массива весов пространственных ядер\n",
        "print('Bias   size        ',layer.trainable_variables[1].shape) # размер массива смещений\n",
        "print('Output size        ',y.shape)\n",
        "\n",
        "# разделимая свертка с 6 фильтрами\n",
        "layer=tf.keras.layers.SeparableConv2D(6,2)\n",
        "y = layer(x)\n",
        "print('SeparableConv2D')\n",
        "print('Spatial kernel size',layer.trainable_variables[0].shape) # размер массива весов пространственных ядер\n",
        "print('Channel kernel size',layer.trainable_variables[1].shape) # размер массива весов канальных ядер\n",
        "print('Bias           size',layer.trainable_variables[2].shape) # размер массива смещений ядер\n",
        "print('Output         size',y.shape)\n",
        "\n"
      ],
      "execution_count": null,
      "outputs": [
        {
          "output_type": "stream",
          "name": "stdout",
          "text": [
            "Conv2D\n",
            "Kernel size         (2, 2, 12, 6)\n",
            "Bias   size         (6,)\n",
            "Output size         (4, 27, 27, 6)\n",
            "SeparableConv2D\n",
            "Spatial kernel size (2, 2, 12, 1)\n",
            "Channel kernel size (1, 1, 12, 6)\n",
            "Bias           size (6,)\n",
            "Output         size (4, 27, 27, 6)\n"
          ]
        }
      ]
    },
    {
      "cell_type": "markdown",
      "source": [
        "# Деформируемые свертки\n",
        "Свертки не обязаны быть прямоугольными.\n",
        "Например, существуют деформируемые свертки, в которых номер элемента входа,который берется в свертку, сам рассчитывается за счет обучения еще одного параметра - отклонения (offset).   \n",
        "\n",
        "![img](https://machinelearningmastery.ru/img/0-788232-675235.png)"
      ],
      "metadata": {
        "id": "Xmf2oA58L3W3"
      }
    },
    {
      "cell_type": "markdown",
      "metadata": {
        "id": "BklsN3ZZK5tY"
      },
      "source": [
        "# Задания\n",
        "Изменяйте параметры сверток, смотрите как это влияет на размерность выхода и количество параметров."
      ]
    },
    {
      "cell_type": "markdown",
      "metadata": {
        "id": "V29o_a-sLFy2"
      },
      "source": [
        "# Ссылки\n",
        "Использованы и адаптированы материалы:\n",
        "\n",
        "\n",
        "https://colab.research.google.com/github/Gurubux/CognitiveClass-DL/blob/master/2_Deep_Learning_with_TensorFlow/DL_CC_2_2_CNN/2.1-Review-Understanding_Convolutions.ipynb\n",
        "\n",
        "https://datascience.stackexchange.com/questions/6107/what-are-deconvolutional-layers\n",
        "\n",
        "https://medium.com/@zurister/depth-wise-convolution-and-depth-wise-separable-convolution-37346565d4ec\n",
        "\n",
        "https://keras.io/\n",
        "\n",
        "https://machinelearningmastery.ru/types-of-convolution-kernels-simplified-f040cb307c37/\n",
        "\n"
      ]
    },
    {
      "cell_type": "code",
      "metadata": {
        "id": "qK58Wb6iLJts"
      },
      "source": [],
      "execution_count": null,
      "outputs": []
    }
  ]
}