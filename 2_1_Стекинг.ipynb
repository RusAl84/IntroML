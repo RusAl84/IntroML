{
  "nbformat": 4,
  "nbformat_minor": 0,
  "metadata": {
    "hide_input": false,
    "kernelspec": {
      "display_name": "Python 3",
      "language": "python",
      "name": "python3"
    },
    "language_info": {
      "codemirror_mode": {
        "name": "ipython",
        "version": 3
      },
      "file_extension": ".py",
      "mimetype": "text/x-python",
      "name": "python",
      "nbconvert_exporter": "python",
      "pygments_lexer": "ipython3",
      "version": "3.7.6"
    },
    "latex_envs": {
      "LaTeX_envs_menu_present": true,
      "autoclose": false,
      "autocomplete": true,
      "bibliofile": "biblio.bib",
      "cite_by": "apalike",
      "current_citInitial": 1,
      "eqLabelWithNumbers": true,
      "eqNumInitial": 1,
      "hotkeys": {
        "equation": "Ctrl-E",
        "itemize": "Ctrl-I"
      },
      "labels_anchors": false,
      "latex_user_defs": false,
      "report_style_numbering": false,
      "user_envs_cfg": false
    },
    "nbTranslate": {
      "displayLangs": [
        "*"
      ],
      "hotkey": "alt-t",
      "langInMainMenu": true,
      "sourceLang": "en",
      "targetLang": "fr",
      "useGoogleTranslate": true
    },
    "toc": {
      "base_numbering": 1,
      "nav_menu": {},
      "number_sections": false,
      "sideBar": true,
      "skip_h1_title": true,
      "title_cell": "Table of Contents",
      "title_sidebar": "Contents",
      "toc_cell": false,
      "toc_position": {},
      "toc_section_display": true,
      "toc_window_display": false
    },
    "varInspector": {
      "cols": {
        "lenName": 16,
        "lenType": 16,
        "lenVar": 40
      },
      "kernels_config": {
        "python": {
          "delete_cmd_postfix": "",
          "delete_cmd_prefix": "del ",
          "library": "var_list.py",
          "varRefreshCmd": "print(var_dic_list())"
        },
        "r": {
          "delete_cmd_postfix": ") ",
          "delete_cmd_prefix": "rm(",
          "library": "var_list.r",
          "varRefreshCmd": "cat(var_dic_list()) "
        }
      },
      "types_to_exclude": [
        "module",
        "function",
        "builtin_function_or_method",
        "instance",
        "_Feature"
      ],
      "window_display": false
    },
    "colab": {
      "provenance": [],
      "include_colab_link": true
    }
  },
  "cells": [
    {
      "cell_type": "markdown",
      "metadata": {
        "id": "view-in-github",
        "colab_type": "text"
      },
      "source": [
        "<a href=\"https://colab.research.google.com/github/RusAl84/IntroML/blob/master/2_1_%D0%A1%D1%82%D0%B5%D0%BA%D0%B8%D0%BD%D0%B3.ipynb\" target=\"_parent\"><img src=\"https://colab.research.google.com/assets/colab-badge.svg\" alt=\"Open In Colab\"/></a>"
      ]
    },
    {
      "cell_type": "markdown",
      "metadata": {
        "id": "GOWjrSeVHacq"
      },
      "source": [
        "# Ансамбли. Стекинг\n",
        "Еще один вариант ансамблей - стекинг - когда объединяются результаты разнородных моделей с помощью еще одной модели.\n",
        "В `sklearn` реализованы\n",
        "* [`StackingClassifier`](https://scikit-learn.org/stable/modules/generated/sklearn.ensemble.StackingClassifier.html#sklearn.ensemble.StackingClassifier)  - классификатор\n",
        "* [`StackingRegressor`](https://scikit-learn.org/stable/modules/generated/sklearn.ensemble.StackingRegressor.html#sklearn.ensemble.StackingRegressor) - регрессор\n",
        "\n",
        "Аргументы для создания ансамблей:\n",
        "* `estimators` - кортеж из названий и объектов моделей ансамбля\n",
        "* `final_estimator` - модель для объединения результатов, по умолчанию `LogisticRegression` для классификатора и `RidgeCV` для регрессора.\n",
        "* `cv` - число разбиений для кроссвалидации (или объекты)\n",
        "* `stack_method` - по какому именно результату объединять модели: ‘auto’, ‘predict_proba’, ‘decision_function’, ‘predict’,\n",
        "* `verbose` - число, определяющее как подробно выводить информацию об обучении, по умолчанию 0 - не выводить\n",
        "* `passthrough` - использовать ли для обучения финальной модели сами данные или только результаты моделей ансамбля.\n",
        "\n",
        "Создаваемые модели имеют атрибуты\n",
        "\n",
        "* `estimators_` - список обученных моделей в ансамбле\n",
        "* `final_estimator_` - обученная финальная модель\n",
        "* `named_estimators_` - контейнер для доступа к параметрам моделей по их названию\n",
        "* `classes_` - для классификатора метки классов\n",
        "\n",
        "Реализованные методы аналогичны: `fit()`, `pedict()`, ...\n",
        "\n",
        "Реализованы также  [`VotingClassifier`](https://scikit-learn.org/stable/modules/generated/sklearn.ensemble.VotingClassifier.html#sklearn.ensemble.VotingClassifier) и [`VotingRegressor`](https://scikit-learn.org/stable/modules/generated/sklearn.ensemble.VotingRegressor.html#sklearn.ensemble.VotingRegressor), отличающиеся тем, что в качестве финальной модели используется процедура голосования.\n",
        "\n"
      ]
    },
    {
      "cell_type": "code",
      "source": [
        "# функция  для рисования разделяющей поверхности на плоскости\n",
        "\n",
        "# Div_plate(clf,flip_level) принимает объект-классификатор и уровень шума (ошибок)\n",
        "# создает двумерные данные, обучает классификатор, рисует разделяющую поверхность\n",
        "# Классификация с шумом\n",
        "def Div_plate(clf, flip_level):\n",
        "    from sklearn.datasets import make_classification # для генерации данных\n",
        "    from sklearn.model_selection import train_test_split # для разделения на обучение и тест\n",
        "    import numpy as np\n",
        "    import seaborn as sns # для простого отображения\n",
        "    import matplotlib.pyplot as plt #\n",
        "    # создаем данные\n",
        "    X,y = make_classification(n_samples=10000, # число примеров\n",
        "                              n_features=2, # число признаков (атрибутов)\n",
        "                              n_informative=2, # из них информативных\n",
        "                              n_redundant=0, # из них не информативных\n",
        "                              n_repeated=0, # из них повторяющихся\n",
        "                              n_classes=2, # число классов\n",
        "                              n_clusters_per_class=1, # число кластеров на класс\n",
        "                              class_sep=2, # влияет на расстояние между кластерами\n",
        "                              flip_y=flip_level, # доля ошибок (шума)\n",
        "                              weights=[0.5,0.5], # пропорции числа данных в классах\n",
        "                              random_state=17) #\n",
        "\n",
        "    # разделяем на обучающие и тестовые, случайно\n",
        "    X_train, X_test, y_train, y_test = train_test_split(\n",
        "        X, y, test_size=0.33, random_state=42)\n",
        "    # рисуем данные\n",
        "    plt.subplots();#\n",
        "    ax1=plt.gca();#\n",
        "    sns.scatterplot(X_train[:,0],X_train[:,1],hue=y_train,ax=ax1);# обучающие\n",
        "    sns.scatterplot(X_test[:,0],X_test[:,1],hue=y_test,ax=ax1,marker=\"+\");# тестовые\n",
        "    ax1.set_title(\"Data With Noise\");#\n",
        "    plt.show();#\n",
        "    # Создаем классификатор на основе случайного леса. Изменяйте параметры и смотрите как это влияет на обучение\n",
        "    clf.fit(X_train, y_train) # обучаем\n",
        "    y_pred = clf.predict(X_test) # проверяем на тесттовых данных\n",
        "    score=clf.score(X_test, y_test) # считаем среднюю точность\n",
        "    print('Score=',score)\n",
        "    ind=y_test==y_pred; # индексы совпадений результата классификации и меток классов\n",
        "    plt.subplots();\n",
        "    ax2=plt.gca();\n",
        "    # рисуем \"правильно\" распознанные примеры\n",
        "    sns.scatterplot(X_test[ind,0],X_test[ind,1],hue=y_test[ind],ax=ax2);\n",
        "    # рисуем \"неправильно\" распознанные примеры\n",
        "    sns.scatterplot(X_test[~ind,0],X_test[~ind,1],hue=y_pred[~ind],ax=ax2,marker=\"+\");\n",
        "    #sns.scatterplot(X_test[:,0],X_test[:,1],hue=y_test[:],ax=ax2,marker=\"+\");\n",
        "    ax2.set_title(\"With Noise\");\n",
        "    # считаем и рисуем разделяющую поверхность.\n",
        "    plot_step=0.01\n",
        "    x_min, x_max = X[:, 0].min() - 1, X[:, 0].max() + 1 # немного измененные минимальное и максимальые значения превого атрибута\n",
        "    y_min, y_max = X[:, 1].min() - 1, X[:, 1].max() + 1 # немного измененные минимальное и максимальые значения второго атрибута\n",
        "    # считаем прямоугольную сетку возможных значений этих атрибутов\n",
        "    xx, yy = np.meshgrid(np.arange(x_min, x_max, plot_step), #\n",
        "                         np.arange(y_min, y_max, plot_step)) #\n",
        "    # считаем выход классификатора для всех примеров сетки\n",
        "    # не забыв что массивы данных нужно привести к требуемому размеру.\n",
        "    Z = clf.predict(np.c_[xx.ravel(), yy.ravel()])\n",
        "    Z = Z.reshape(xx.shape) # и преобразуем обратно в исходному размеру\n",
        "    # рисуем разделяющую поверхность\n",
        "    cs = plt.contourf(xx, yy, Z, levels=1, colors=['blue','orange'],alpha=0.3) # рисуем контурную карту\n",
        "    plt.show();"
      ],
      "metadata": {
        "id": "fFbnPRvUqkSm"
      },
      "execution_count": null,
      "outputs": []
    },
    {
      "cell_type": "code",
      "metadata": {
        "ExecuteTime": {
          "end_time": "2020-10-11T11:17:47.374170Z",
          "start_time": "2020-10-11T11:17:44.432001Z"
        },
        "colab": {
          "base_uri": "https://localhost:8080/",
          "height": 749
        },
        "id": "gwzm_I-AHacs",
        "outputId": "b827167b-2f16-4c28-f684-9a6020304cd1"
      },
      "source": [
        "from sklearn.ensemble import   StackingClassifier #\n",
        "from sklearn.svm import SVC #\n",
        "from sklearn.linear_model import LogisticRegression #\n",
        "from sklearn.tree import DecisionTreeClassifier\n",
        "estimators = [('SVC', SVC(max_iter=10)),\n",
        "              ('LogReg', LogisticRegression()),\n",
        "              ('Tree',DecisionTreeClassifier())]\n",
        "clf=StackingClassifier(estimators=estimators)\n",
        "flip_level=0.2\n",
        "Div_plate(clf,flip_level)"
      ],
      "execution_count": null,
      "outputs": [
        {
          "output_type": "error",
          "ename": "TypeError",
          "evalue": "ignored",
          "traceback": [
            "\u001b[0;31m---------------------------------------------------------------------------\u001b[0m",
            "\u001b[0;31mTypeError\u001b[0m                                 Traceback (most recent call last)",
            "\u001b[0;32m<ipython-input-8-c181edf2b8b2>\u001b[0m in \u001b[0;36m<cell line: 10>\u001b[0;34m()\u001b[0m\n\u001b[1;32m      8\u001b[0m \u001b[0mclf\u001b[0m\u001b[0;34m=\u001b[0m\u001b[0mStackingClassifier\u001b[0m\u001b[0;34m(\u001b[0m\u001b[0mestimators\u001b[0m\u001b[0;34m=\u001b[0m\u001b[0mestimators\u001b[0m\u001b[0;34m)\u001b[0m\u001b[0;34m\u001b[0m\u001b[0;34m\u001b[0m\u001b[0m\n\u001b[1;32m      9\u001b[0m \u001b[0mflip_level\u001b[0m\u001b[0;34m=\u001b[0m\u001b[0;36m0.2\u001b[0m\u001b[0;34m\u001b[0m\u001b[0;34m\u001b[0m\u001b[0m\n\u001b[0;32m---> 10\u001b[0;31m \u001b[0mDiv_plate\u001b[0m\u001b[0;34m(\u001b[0m\u001b[0mclf\u001b[0m\u001b[0;34m,\u001b[0m\u001b[0mflip_level\u001b[0m\u001b[0;34m)\u001b[0m\u001b[0;34m\u001b[0m\u001b[0;34m\u001b[0m\u001b[0m\n\u001b[0m",
            "\u001b[0;32m<ipython-input-7-f11d6dd39893>\u001b[0m in \u001b[0;36mDiv_plate\u001b[0;34m(clf, flip_level)\u001b[0m\n\u001b[1;32m     29\u001b[0m     \u001b[0mplt\u001b[0m\u001b[0;34m.\u001b[0m\u001b[0msubplots\u001b[0m\u001b[0;34m(\u001b[0m\u001b[0;34m)\u001b[0m\u001b[0;34m;\u001b[0m\u001b[0;31m#\u001b[0m\u001b[0;34m\u001b[0m\u001b[0;34m\u001b[0m\u001b[0m\n\u001b[1;32m     30\u001b[0m     \u001b[0max1\u001b[0m\u001b[0;34m=\u001b[0m\u001b[0mplt\u001b[0m\u001b[0;34m.\u001b[0m\u001b[0mgca\u001b[0m\u001b[0;34m(\u001b[0m\u001b[0;34m)\u001b[0m\u001b[0;34m;\u001b[0m\u001b[0;31m#\u001b[0m\u001b[0;34m\u001b[0m\u001b[0;34m\u001b[0m\u001b[0m\n\u001b[0;32m---> 31\u001b[0;31m     \u001b[0msns\u001b[0m\u001b[0;34m.\u001b[0m\u001b[0mscatterplot\u001b[0m\u001b[0;34m(\u001b[0m\u001b[0mX_train\u001b[0m\u001b[0;34m[\u001b[0m\u001b[0;34m:\u001b[0m\u001b[0;34m,\u001b[0m\u001b[0;36m0\u001b[0m\u001b[0;34m]\u001b[0m\u001b[0;34m,\u001b[0m\u001b[0mX_train\u001b[0m\u001b[0;34m[\u001b[0m\u001b[0;34m:\u001b[0m\u001b[0;34m,\u001b[0m\u001b[0;36m1\u001b[0m\u001b[0;34m]\u001b[0m\u001b[0;34m,\u001b[0m\u001b[0mhue\u001b[0m\u001b[0;34m=\u001b[0m\u001b[0my_train\u001b[0m\u001b[0;34m,\u001b[0m\u001b[0max\u001b[0m\u001b[0;34m=\u001b[0m\u001b[0max1\u001b[0m\u001b[0;34m)\u001b[0m\u001b[0;34m;\u001b[0m\u001b[0;31m# обучающие\u001b[0m\u001b[0;34m\u001b[0m\u001b[0;34m\u001b[0m\u001b[0m\n\u001b[0m\u001b[1;32m     32\u001b[0m     \u001b[0msns\u001b[0m\u001b[0;34m.\u001b[0m\u001b[0mscatterplot\u001b[0m\u001b[0;34m(\u001b[0m\u001b[0mX_test\u001b[0m\u001b[0;34m[\u001b[0m\u001b[0;34m:\u001b[0m\u001b[0;34m,\u001b[0m\u001b[0;36m0\u001b[0m\u001b[0;34m]\u001b[0m\u001b[0;34m,\u001b[0m\u001b[0mX_test\u001b[0m\u001b[0;34m[\u001b[0m\u001b[0;34m:\u001b[0m\u001b[0;34m,\u001b[0m\u001b[0;36m1\u001b[0m\u001b[0;34m]\u001b[0m\u001b[0;34m,\u001b[0m\u001b[0mhue\u001b[0m\u001b[0;34m=\u001b[0m\u001b[0my_test\u001b[0m\u001b[0;34m,\u001b[0m\u001b[0max\u001b[0m\u001b[0;34m=\u001b[0m\u001b[0max1\u001b[0m\u001b[0;34m,\u001b[0m\u001b[0mmarker\u001b[0m\u001b[0;34m=\u001b[0m\u001b[0;34m\"+\"\u001b[0m\u001b[0;34m)\u001b[0m\u001b[0;34m;\u001b[0m\u001b[0;31m# тестовые\u001b[0m\u001b[0;34m\u001b[0m\u001b[0;34m\u001b[0m\u001b[0m\n\u001b[1;32m     33\u001b[0m     \u001b[0max1\u001b[0m\u001b[0;34m.\u001b[0m\u001b[0mset_title\u001b[0m\u001b[0;34m(\u001b[0m\u001b[0;34m\"Data With Noise\"\u001b[0m\u001b[0;34m)\u001b[0m\u001b[0;34m;\u001b[0m\u001b[0;31m#\u001b[0m\u001b[0;34m\u001b[0m\u001b[0;34m\u001b[0m\u001b[0m\n",
            "\u001b[0;31mTypeError\u001b[0m: scatterplot() takes from 0 to 1 positional arguments but 2 positional arguments (and 2 keyword-only arguments) were given"
          ]
        },
        {
          "output_type": "display_data",
          "data": {
            "text/plain": [
              "<Figure size 640x480 with 1 Axes>"
            ],
            "image/png": "[encoded data removed]"
          },
          "metadata": {}
        }
      ]
    },
    {
      "cell_type": "code",
      "metadata": {
        "ExecuteTime": {
          "end_time": "2020-10-11T11:17:47.379170Z",
          "start_time": "2020-10-11T11:17:47.375170Z"
        },
        "id": "kGoA8a9eHact"
      },
      "source": [
        "clf.final_estimator_.coef_"
      ],
      "execution_count": null,
      "outputs": []
    },
    {
      "cell_type": "markdown",
      "metadata": {
        "id": "kjcNUJ9lHacv"
      },
      "source": [
        "Посмотрите на коэффициенты логистической регрессии финальной модели и скажите, результаты какого классификатора из ансамбля более важны?\n",
        "\n",
        "Пробуйте самостоятельно другие данные, другие модели, другие параметры моделей."
      ]
    },
    {
      "cell_type": "code",
      "metadata": {
        "id": "aThojWiuHacv"
      },
      "source": [],
      "execution_count": null,
      "outputs": []
    }
  ]
}