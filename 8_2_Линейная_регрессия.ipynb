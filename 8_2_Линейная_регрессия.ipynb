{
  "nbformat": 4,
  "nbformat_minor": 0,
  "metadata": {
    "hide_input": false,
    "kernelspec": {
      "display_name": "Python 3",
      "language": "python",
      "name": "python3"
    },
    "language_info": {
      "codemirror_mode": {
        "name": "ipython",
        "version": 3
      },
      "file_extension": ".py",
      "mimetype": "text/x-python",
      "name": "python",
      "nbconvert_exporter": "python",
      "pygments_lexer": "ipython3",
      "version": "3.7.6"
    },
    "latex_envs": {
      "LaTeX_envs_menu_present": true,
      "autoclose": false,
      "autocomplete": true,
      "bibliofile": "biblio.bib",
      "cite_by": "apalike",
      "current_citInitial": 1,
      "eqLabelWithNumbers": true,
      "eqNumInitial": 1,
      "hotkeys": {
        "equation": "Ctrl-E",
        "itemize": "Ctrl-I"
      },
      "labels_anchors": false,
      "latex_user_defs": false,
      "report_style_numbering": false,
      "user_envs_cfg": false
    },
    "nbTranslate": {
      "displayLangs": [
        "*"
      ],
      "hotkey": "alt-t",
      "langInMainMenu": true,
      "sourceLang": "en",
      "targetLang": "fr",
      "useGoogleTranslate": true
    },
    "toc": {
      "base_numbering": 1,
      "nav_menu": {},
      "number_sections": false,
      "sideBar": true,
      "skip_h1_title": true,
      "title_cell": "Table of Contents",
      "title_sidebar": "Contents",
      "toc_cell": false,
      "toc_position": {},
      "toc_section_display": true,
      "toc_window_display": false
    },
    "varInspector": {
      "cols": {
        "lenName": 16,
        "lenType": 16,
        "lenVar": 40
      },
      "kernels_config": {
        "python": {
          "delete_cmd_postfix": "",
          "delete_cmd_prefix": "del ",
          "library": "var_list.py",
          "varRefreshCmd": "print(var_dic_list())"
        },
        "r": {
          "delete_cmd_postfix": ") ",
          "delete_cmd_prefix": "rm(",
          "library": "var_list.r",
          "varRefreshCmd": "cat(var_dic_list()) "
        }
      },
      "types_to_exclude": [
        "module",
        "function",
        "builtin_function_or_method",
        "instance",
        "_Feature"
      ],
      "window_display": false
    },
    "colab": {
      "provenance": [],
      "include_colab_link": true
    }
  },
  "cells": [
    {
      "cell_type": "markdown",
      "metadata": {
        "id": "view-in-github",
        "colab_type": "text"
      },
      "source": [
        "<a href=\"https://colab.research.google.com/github/RusAl84/IntroML/blob/master/8_2_%D0%9B%D0%B8%D0%BD%D0%B5%D0%B9%D0%BD%D0%B0%D1%8F_%D1%80%D0%B5%D0%B3%D1%80%D0%B5%D1%81%D1%81%D0%B8%D1%8F.ipynb\" target=\"_parent\"><img src=\"https://colab.research.google.com/assets/colab-badge.svg\" alt=\"Open In Colab\"/></a>"
      ]
    },
    {
      "cell_type": "markdown",
      "metadata": {
        "id": "kIxdne2r5yP4"
      },
      "source": [
        "# Линейная регрессия\n",
        "## Модель линейной регрессии\n",
        "Модели машинного обучения устанавливают некоторую зависимость выходов от входов, т.е. задают правила, как посчитать выход, зная вход и параметры модели. В зависимости от того, каковы эти правила, различают и разные модели.\n",
        "\n",
        "Одни из самых простых правил - **линейные**.\n",
        "\n",
        "Линейные модели задают зависимости вида: \n",
        "\n",
        "(y - выход, x- вход, a и b - параметры)\n",
        "\n",
        "\\\\(y=a*x+b\\\\)\n",
        "\n",
        "Здесь вход x умножается на параметр a и к этому прибавляется параметр b.\n",
        "\n",
        "Вход и выход могут быть векторами. Пусть х и y - вектора, в этом случае зависимость похожа, но теперь A это матрица параметров, а b - вектор и производится *матричное* умножение. Как вы помните, при матричном умножении необходимо соблюдать размерность, количество столбцов в матрице А равно количеству элементов в векторе х, а количество строк в матрице А равно количеству элементов в векторе у и равно количеству элементов в векторе b.\n",
        "\n",
        "$ \\overrightarrow{y}=A*\\overrightarrow{x}+\\overrightarrow{b} \\\\ \\\n",
        "\\\\\n",
        "\\overrightarrow{x} - вектор\\ размерности\\ N \\\\ \n",
        "\\overrightarrow{y} - вектор\\ размерности\\ M \\\\ \n",
        "\\overrightarrow{b} - вектор\\ размерности\\ M \\\\ \n",
        "A - матрица\\ размерности\\ M*N \\\\ $\n",
        "\n",
        "\n",
        "Линейные зависимости очень просты, их легко считать, линейные модели легко обучать, но - всегда есть но - они хороши только для простых данных с почти линейными зависимостями, а такое бывает очень редко. Все же линейная модель это первое, что стоит попробовать при решении задачи, часто они используются как начальный вариант с другими моделями. Модели, которые не являются линейными, называются **нелинейными**, с ними познакомимся в другой раз.\n",
        "\n",
        "Следует указывать также, по какой переменной модель линейна, может быть так, что она линейна по входу, но не по параметрам, а может наоборот. Линейная регрессия линейна и по входу и по параметрам."
      ]
    },
    {
      "cell_type": "markdown",
      "metadata": {
        "id": "aycqmLfx5yQD"
      },
      "source": [
        "## Обучение линейной регрессии. Итерационный метод наименьших квадратов.\n",
        "Мы задали модель, теперь ее нужно обучить. Обучить - значит подобрать параметры так, чтобы ошибка была как можно меньше. Нужно задать и посчитать ошибку.\n",
        "\n",
        "Много способов придумано для расчета ошибки, пожалуй самый распространенный из них это **метод наименьших квадратов** (МНК). \n",
        "\n",
        "В методе наименьших квадратов ищут такие параметры, которые дали бы наименьшее значение суммы квадратов расстояний выходов модели от заданных (указаний учителя) на заданных входах. Такая длинная и непонятная фраза, давайте посмотрим на одномерном примере.\n",
        "\n",
        "Задано **P** примеров данных (синие точки): вход **х** и желаемый выход (указания учителя) **t**.\n",
        "\n",
        "![img](https://drive.google.com/uc?id=1dFaEsDIqbufA3VgIlMfZ4kyi-9K7h5aW)\n",
        "\n",
        "Если мы выбрали какие-то параметры **a** и **b**, то для любого входа **x** можем посчитать выход модели **y**. Как вы можете догадаться это будет прямая линия (зеленая).\n",
        "\n",
        "В идеальном случае выход **y** для заданного входа **х** должен совпасть с указанием учителя **t** для этого же входа. А если не совпадает, то модель ошибается. Мы можем посчитать насколько именно ошибается модель (красная пунктирная линия). Ошибка это разница между тем что получилось и тем что должно было получиться на выходе \\\\(e(x)=y(x)-t(x)\\\\). Для каждого входа **х** эта ошибка своя, попытаемся уменьшить ее для одного входа - может увеличиться для другого. Надо сделать так, чтобы для всех входов сразу общая, суммарная, ошибка была как можно меньше. Но обратите внимание, что такая ошибка имеет знак. Если мы просто сложим ошибки разного знака (+5 и -5 например) то суммарная будет 0, но модель не угадает выходы: на одном она ошиблась в одну сторону (+5), на другом - в другую (-5). Поэтому нужно использовать не саму ошибку, а ее абсолютное значение, модуль. Модуль не очень приятная функция, она не дифференцируемая в нуле, лучше вместо модуля использовать квадрат модуля! А вот тут все прекрасно, квадрат модуля дифференцируемая функция, считается не так уж сложно и неотрицательна. Причем равняется нулю, только если аргумент равен нулю. \n",
        "\n",
        "Итак, будем использовать функцию ошибки: сумма по всем примерам **P** квадратов разности действительного выхода **y** и желаемого выхода **t** на входных примерах **x**. \n",
        "\n",
        "\n",
        "$ E=\\sum_{i=1}^{P} e(x_i)^2=\\sum_{i=1}^{P} (y(x_i)-t(x_i))^2\\\\\n",
        "x_i : i-ый\\ пример\\ входа\\\\\n",
        "t(x_i) : указание\\ учителя\\ для\\ него\\\\\n",
        "y(x_i) : выход\\ модели\\ для\\ него \\\\ $\n",
        "\n",
        "Ради математической красоты можно поделить это на 2 и на P, но мы не будем, нас волнует не конкретное значение функции ошибки, а где находится ее минимум, а умножением и делением на константы мы положение минимума не меняем.\n",
        "\n",
        "Мы явно не написали, но функция ошибки зависит от параметров модели. Почему? Потому что от них зависит выход **y**. Изменяя параметры модели можем найти такие, для которых ошибка будет наименьшей. Отсюда и название метода наименьших квадратов - функция ошибки это сумма квадратов чего-то там, и мы ищем наименьшее ее значение."
      ]
    },
    {
      "cell_type": "markdown",
      "metadata": {
        "id": "SaUKaSu95yQF"
      },
      "source": [
        " \n",
        "### Градиентный спуск.\n",
        "Осталось найти параметры, для которых функция ошибки минимальна. Много разных методов есть для этого. \n",
        "\n",
        "Например, перебор: изменяем параметры, смотрим уменьшилась ли функция ошибки, если уменьшилась - запоминаем эти значения параметров, если нет - не запоминаем. И так перебираем все возможные значения параметров. Метод хороший, если у нас мало возможных значений параметров, но такое бывает крайне редко. Ну-ка посчитайте, если есть два параметра, каждый может принимать 10 значений, то сколько всего вариантов комбинаций параметров может быть? 100? Правильно, сто это не так много, переберем. А если три таких параметра? И тысячу переберем. А если таких параметров всего-то 100, сколько вариантов перебрать надо? Ой-ой, по-гуглите, есть ли у такого числа название. Даже если с начала зарождения вселенной каждую наносекунду по одному варианту перебирать, то так все и не переберем, вот проклятье! Такая ситуация, что количество вариантов перебора растет очень-очень быстро так и называется **проклятие размерности**. Нет, переборы нам ненужны.\n",
        "\n",
        "Ну ладно, другой вариант: Если присмотреться к функции ошибки, то поймем, что от параметров она зависит квадратично. Всего-то нужно решить квадратное уравнение. И это можно сделать. Но мы не будем. Все хорошо только потому, что функция ошибки квадратична по параметрам. Это прекрасное свойство для линейных моделей, но вот для нелинейных это не так. Хотелось бы все-таки метод, который к любым, ну или большинству, моделям подходил.\n",
        "\n",
        "И такой метод есть - это **градиентный спуск**, нет, лучше, **ГРАДИЕНТНЫЙ СПУСК**. Большие буквы заслужены, этот метод является основой основ машинного обучения, ему мы обязаны современными чудесными приложениями. Чтобы понять суть метода нужно вспомнить, что такое **производная**. \n",
        "\n",
        "Представьте, что вы стоите на горе с закрытыми глазами. Вам надо спуститься вниз. Вы не видите где этот низ расположен, но чувствуете, куда поверхность опускается, и можете понять, идти ли вам направо или налево, чтобы спускаться. Ах, вот если бы для функции, не видя ее графика, можно было понять, она увеличивается или уменьшается в конкретной точке. Но как раз это и показывает производная функции. Если производная больше нуля - функция возрастает, если меньше нуля - убывает, а если ноль - то не изменяется с ростом аргумента. Нам нужен минимум функции ошибки, значит двигаться надо в сторону ее убывания. Вы, стоя на горе, можете сделать маленький шаг в направлении низа, и мы можем немножко изменить параметр модели в том направлении, куда функция ошибки убывает. А потом еще раз, и еще раз, и еще. Дойдем до низа, производная станет равна нулю. Если перескочим (ну вот такие длинные шаги), сразу почувствуем что направление изменилось и низ с другой стороны, а производная изменит знак. \n",
        "\n",
        "Все что нам нужно сделать, так это считать производную функции ошибки по параметру и изменять его, постепенно увеличивая или уменьшая в зависимости от знака (и величины) производной. В многомерном случае, когда параметров много, нам нужно считать производные функции ошибки по каждому из них, 100 параметров - 100 производных посчитать надо. Вектор, составленный из производных функции ошибки по каждому параметру называют **градиентом**. \n",
        "\n",
        "Итак, в методе градиентного спуска мы считаем вектор градиента и изменяем вектор параметров в направлении антиградиента (т.е. \"минус\" градиента). Так делаем несколько раз *итеративно* (в цикле).\n",
        "Пусть **t** - номер текущей итерации, **w(t)** - параметр модели, на этой итерации , **E(t)** - функция ошибки на этой итерации, зависящая от всех параметров, входов, и указаний учителя, тогда на следующей итерации **t+1** параметр в методе градиентного спуска задается как:\n",
        "\n",
        "\\\\(w(t+1)=w(t)-s*\\frac{\\partial E(t)}{\\partial w}\\\\)\n",
        "\n",
        "то есть новое значение параметра равно текущему значения *минус* производная функция ошибки по этому параметру умноженная на коэффициент **s**. Минус потому, что нужно в сторону уменьшения функции ошибки двигаться. Коэффициент **s** (вместе с величиной производной) определяет длину шага, как сильно мы изменяем параметр. Его задают вручную, но есть и методы для автоматического подбора шага. Для краткости называют его \"шаг\" обучения (learning rate).\n",
        "\n",
        "Это очень простой метод, но в нем есть много подводных камней, мы про них поговорим отдельно на других занятиях, пока попробуйте самостоятельно понять какие трудности с ним могут возникнуть.    "
      ]
    },
    {
      "cell_type": "markdown",
      "metadata": {
        "id": "Aehhkcal5yQG"
      },
      "source": [
        "Теперь мы знаем как обучить линейную регрессию, давайте это и сделаем. "
      ]
    },
    {
      "cell_type": "markdown",
      "metadata": {
        "id": "uhjYLWnO5yQI"
      },
      "source": [
        "### Генерация данных\n",
        "Сгенерируем данные, которые похожи на линейную зависимость, но все же не точно линейны."
      ]
    },
    {
      "cell_type": "code",
      "metadata": {
        "ExecuteTime": {
          "end_time": "2020-10-11T10:01:15.599535Z",
          "start_time": "2020-10-11T10:01:15.590535Z"
        },
        "colab": {
          "base_uri": "https://localhost:8080/"
        },
        "id": "uRecMP7Z5yQI",
        "outputId": "8fe333c1-c524-4335-ed5a-e9c456ceb9bf"
      },
      "source": [
        "import numpy as np # подключим библиотеку для работы с массивами \n",
        "\n",
        "np.random.seed(42) # начало генератора случайных чисел, чтобы после перезапуска были одинаковые\n",
        "\n",
        "x = np.random.randn(1, 100) #(100, 1) # генерируем случайно несколько примеров входа, одномерный.\n",
        "a, b = 2, 1 # коэффициенты зависимости в данных\n",
        "eps = .1 * np.random.randn(1, 100) # шум с нормальным распределением\n",
        "y = b + a*x + eps # примеры выхода\n",
        "\n",
        "x.shape, y.shape"
      ],
      "execution_count": null,
      "outputs": [
        {
          "output_type": "execute_result",
          "data": {
            "text/plain": [
              "((1, 100), (1, 100))"
            ]
          },
          "metadata": {},
          "execution_count": 59
        }
      ]
    },
    {
      "cell_type": "markdown",
      "metadata": {
        "id": "II6Aok4I5yQK"
      },
      "source": [
        "Перемешаем и разделим примеры на тестовые и обучающие."
      ]
    },
    {
      "cell_type": "code",
      "metadata": {
        "ExecuteTime": {
          "end_time": "2020-10-11T10:01:18.696712Z",
          "start_time": "2020-10-11T10:01:18.692712Z"
        },
        "colab": {
          "base_uri": "https://localhost:8080/"
        },
        "id": "9ucTXfhZ5yQL",
        "outputId": "1e108b62-3674-4f96-8ea8-c9ba240c708d"
      },
      "source": [
        "new_ind = np.arange(100) #сгенерируем массив последовательных чисел по количесвту данных - индексы данных\n",
        "\n",
        "np.random.shuffle(new_ind)# случайно перемешаем их (переставим элементы массива)\n",
        "new_ind #"
      ],
      "execution_count": null,
      "outputs": [
        {
          "output_type": "execute_result",
          "data": {
            "text/plain": [
              "array([93, 28, 55, 30, 80, 17, 54, 76, 10,  9,  2, 87, 46, 98, 84, 82, 26,\n",
              "       69, 85, 52, 40, 67, 99, 63, 83,  0, 45, 11, 95, 22, 66, 20, 33, 90,\n",
              "       27, 37, 97, 18, 70, 86, 77, 39, 34, 29, 72, 81, 58,  3, 92,  4, 60,\n",
              "       43, 78, 96, 36, 94, 53, 74,  5, 91, 51, 48, 73, 79, 68, 21, 61, 71,\n",
              "       57, 88, 50, 62, 31, 65, 14, 75, 13, 15,  7, 64, 19, 44, 35, 56,  6,\n",
              "       59, 12, 23, 24, 49, 25, 41, 38, 47, 42,  8, 32, 16, 89,  1])"
            ]
          },
          "metadata": {},
          "execution_count": 60
        }
      ]
    },
    {
      "cell_type": "code",
      "metadata": {
        "ExecuteTime": {
          "end_time": "2020-10-11T10:01:20.633823Z",
          "start_time": "2020-10-11T10:01:20.628823Z"
        },
        "id": "23hBCBJQ5yQM"
      },
      "source": [
        "train_idx = new_ind[:70]# первую часть индексов (с 0 до 69) определим как обучающие\n",
        "test_idx = new_ind[70:]# вторую часть индексов (с 70 до конца=99) определим как тестовые\n",
        "# используя эти индексы разделим массивы данных на обучающие и тестовые\n",
        "x_train, y_train = x[0][train_idx], y[0][train_idx]# обучающие вход и желаемый выход\n",
        "x_test, y_test = x[0][test_idx], y[0][test_idx]# тестовые вход и желаемый выход\n"
      ],
      "execution_count": null,
      "outputs": []
    },
    {
      "cell_type": "markdown",
      "metadata": {
        "id": "l0dxFLuG5yQN"
      },
      "source": [
        "Посмотрим на полученные данные. Мы используем  написанную функцию `plot_line_or_scatter` для отрисовки. Функция основана на matplotlib и в файле можно посмотреть на ее реализацию.\n",
        "\n"
      ]
    },
    {
      "cell_type": "code",
      "metadata": {
        "id": "RFt2uPN_BQg0"
      },
      "source": [
        "# Функция для рисования линейных или точечных графиков \n",
        "import matplotlib.pyplot as plt\n",
        "def plot_line_or_scatter(type_plot, x_data, y_data, x_label=\"\", y_label=\"\", title=\"\", color = \"r\", yscale_log=False):\n",
        "    # Create the plot object\n",
        "    _, ax = plt.subplots()\n",
        "    \n",
        "    if type_plot == 'scatter':\n",
        "        ax.scatter(x_data, y_data, s = 10, color = color, alpha = 0.75)\n",
        "    \n",
        "    else:\n",
        "        ax.plot(x_data, y_data, lw = 2, color = color, alpha = 1)\n",
        "        \n",
        "    ax.set_title(title)\n",
        "    ax.set_xlabel(x_label)\n",
        "    ax.set_ylabel(y_label) "
      ],
      "execution_count": null,
      "outputs": []
    },
    {
      "cell_type": "code",
      "metadata": {
        "ExecuteTime": {
          "end_time": "2020-10-11T10:01:25.619108Z",
          "start_time": "2020-10-11T10:01:25.318091Z"
        },
        "colab": {
          "base_uri": "https://localhost:8080/",
          "height": 265
        },
        "id": "FMKZsuJO5yQO",
        "outputId": "d4480451-7d71-4ff7-8c7f-7825e59d70a7"
      },
      "source": [
        "plot_line_or_scatter('scatter', x_train, y_train, color='green') # рисуем обучающие данные, зависимость желаемого выхода от входа"
      ],
      "execution_count": null,
      "outputs": [
        {
          "output_type": "display_data",
          "data": {
            "text/plain": [
              "<Figure size 432x288 with 1 Axes>"
            ],
            "image/png": "[encoded data removed]"
          },
          "metadata": {
            "needs_background": "light"
          }
        }
      ]
    },
    {
      "cell_type": "markdown",
      "source": [
        "Зависимость между входом **x** и выходом **y** получилась почти линейная, как мы и хотели."
      ],
      "metadata": {
        "id": "pXDJxdfCmdb5"
      }
    },
    {
      "cell_type": "markdown",
      "metadata": {
        "id": "E4pblmfz5yQQ"
      },
      "source": [
        "### Обучение модели\n",
        "Теперь забудем что мы делали данные сами, представим, что нам их кто-то дал и велел сказать, какая зависимость между входом и выходом в этих данных.\n",
        "\n",
        "Предположим, что зависимость линейная, тогда мы можем узнать коэффициенты этой зависимости с помощью линейной регрессии.\n",
        "\n",
        "Процесс обучения линейной регрессии итерационный, на каждом шаге мы от старых значений параметров отнимаем величину, зависящую от производной функции ошибки по этому параметру. Но итерации надо с чего-то начать, т.е. у нас должны быть \"старые\" значения параметров еще до начала итераций. Указание таких \"старых\" значений называется **инициализацией**, параметры нужно инициализировать. Это одна из проблем градиентного спуска и итерационных методов вообще. От того как мы инициализируем параметры будет зависеть и скорость обучения и результат обучения и сможет ли модель вообще чему-то полезному обучиться. Когда не знаешь как лучше - делай случайно: инициализируем параметры случайными числами из нормального распределения.\n",
        "\n",
        "В линейной регрессии для одномерных величин мы имеем два параметра: коэффициент (множитель) **a**  и смещение (слагаемое) **b**. "
      ]
    },
    {
      "cell_type": "code",
      "metadata": {
        "ExecuteTime": {
          "end_time": "2020-10-11T10:01:30.347379Z",
          "start_time": "2020-10-11T10:01:30.343378Z"
        },
        "colab": {
          "base_uri": "https://localhost:8080/"
        },
        "id": "vX91fB_Z5yQR",
        "outputId": "4d8130de-bc8d-432d-b7b1-3056e000283f"
      },
      "source": [
        "a =  np.random.randn(1)# случайное число для параметра a\n",
        "a"
      ],
      "execution_count": null,
      "outputs": [
        {
          "output_type": "execute_result",
          "data": {
            "text/plain": [
              "array([-0.23739196])"
            ]
          },
          "metadata": {},
          "execution_count": 66
        }
      ]
    },
    {
      "cell_type": "code",
      "metadata": {
        "ExecuteTime": {
          "end_time": "2020-10-11T10:01:32.366494Z",
          "start_time": "2020-10-11T10:01:32.356494Z"
        },
        "colab": {
          "base_uri": "https://localhost:8080/"
        },
        "id": "eZazNX1U5yQR",
        "outputId": "cd1592e5-3add-4a95-bad5-f361e0ca30a1"
      },
      "source": [
        "b = np.random.rand(1)# случайное число для параметра b \n",
        "b"
      ],
      "execution_count": null,
      "outputs": [
        {
          "output_type": "execute_result",
          "data": {
            "text/plain": [
              "array([0.09783416])"
            ]
          },
          "metadata": {},
          "execution_count": 67
        }
      ]
    },
    {
      "cell_type": "markdown",
      "metadata": {
        "id": "lhmWac_p5yQS"
      },
      "source": [
        "Обучать будем методом наименьших квадратов, для него нужно задать несколько гиперпараметров: шаг обучения  и количество итераций обучения, назовем их эпохами."
      ]
    },
    {
      "cell_type": "code",
      "metadata": {
        "ExecuteTime": {
          "end_time": "2020-10-11T10:01:35.695685Z",
          "start_time": "2020-10-11T10:01:35.689684Z"
        },
        "id": "tXcl1JxS5yQT"
      },
      "source": [
        "lr = 10e-3 # шаг обучения\n",
        "epochs = 100 # количество эпох\n"
      ],
      "execution_count": null,
      "outputs": []
    },
    {
      "cell_type": "code",
      "metadata": {
        "ExecuteTime": {
          "end_time": "2020-10-11T10:01:36.811748Z",
          "start_time": "2020-10-11T10:01:36.793747Z"
        },
        "colab": {
          "base_uri": "https://localhost:8080/"
        },
        "id": "01uIdN4_5yQT",
        "outputId": "42f7207e-d0e0-454b-bd48-ed0dfde8fed4"
      },
      "source": [
        "# ЦИКЛ ОБУЧЕНИЯ\n",
        "Loss=[]# массив для значений функции ошибки\n",
        "for ep in range(epochs): # в цикле по количеству эпох\n",
        "    y_pred = b + a*x_train # считаем выход модели для всех примеров входов с текущими значениями параметров модели\n",
        "    error = (y_pred - y_train) # считаем разницу между полученным выходом и тем, который должен был быть\n",
        "    \n",
        "    loss = (error**2).mean() # считаем суммарную ошибку. Функция среднего mean() как замена суммирования по всем примерам \n",
        "    Loss.append(loss) # добавлем текущее значение в массив\n",
        "    b_grad = 2 * error.mean() # считаем производную по параметру, смещению b (на 2 можно не умножать включив его в lr)\n",
        "    a_grad = 2 * (x_train * error).mean() # считаем производную по параметру, множителю a\n",
        "    \n",
        "    # обучение = изменение параметров\n",
        "    a = a - lr*a_grad # изменяем параметр a\n",
        "    b = b - lr*b_grad # изменяем параметр b      \n",
        "    \n",
        "    if ep % 20 == 0 or ep==epochs-1: # каждые 20 эпох будем\n",
        "        print('ep: %3d  loss: %8.6f   a=%4.3f  b=%4.3f'%(ep,loss,a,b)) # печатать значение функции ошибки"
      ],
      "execution_count": null,
      "outputs": [
        {
          "output_type": "stream",
          "name": "stdout",
          "text": [
            "ep:   0  loss: 0.007296   a=1.976  b=0.984\n",
            "ep:  20  loss: 0.007264   a=1.979  b=0.985\n",
            "ep:  40  loss: 0.007245   a=1.981  b=0.985\n",
            "ep:  60  loss: 0.007234   a=1.982  b=0.985\n",
            "ep:  80  loss: 0.007228   a=1.983  b=0.985\n",
            "ep:  99  loss: 0.007224   a=1.984  b=0.985\n"
          ]
        }
      ]
    },
    {
      "cell_type": "code",
      "metadata": {
        "ExecuteTime": {
          "end_time": "2020-10-11T10:01:39.823921Z",
          "start_time": "2020-10-11T10:01:39.441899Z"
        },
        "colab": {
          "base_uri": "https://localhost:8080/",
          "height": 265
        },
        "id": "29Ss-yU15yQU",
        "outputId": "2f0c396e-8401-4ef5-8d7a-0ae4d2f9ddc5"
      },
      "source": [
        "# посмотрим на функцию ошибки\n",
        "from matplotlib import pyplot as plt  #\n",
        "plt.plot(np.arange(epochs), Loss, color='green') # рисуем\n",
        "plt.yscale('log') # логарифмический масштаб для наглядности"
      ],
      "execution_count": null,
      "outputs": [
        {
          "output_type": "display_data",
          "data": {
            "text/plain": [
              "<Figure size 432x288 with 1 Axes>"
            ],
            "image/png": "[encoded data removed]"
          },
          "metadata": {
            "needs_background": "light"
          }
        }
      ]
    },
    {
      "cell_type": "markdown",
      "metadata": {
        "id": "Z9PTW-205yQV"
      },
      "source": [
        "Запускайте цикл обучения несколько раз, смотрите, как обучается модель.\n",
        "\n",
        "В итоге, мы пришли к *почти* тем же самым параметрам, которые использовались при создании данных, т.е. установили зависимость. Проверим на тестовых данных.\n",
        "\n",
        "Сначала рассчитаем выходы модели на тестовых примерах входов `x_test`.\n",
        "У нас уже были соответствующие желаемые тестовые выходы для них в `y_test`.\n",
        "Построим их."
      ]
    },
    {
      "cell_type": "code",
      "metadata": {
        "ExecuteTime": {
          "end_time": "2020-10-11T10:01:43.462129Z",
          "start_time": "2020-10-11T10:01:43.455128Z"
        },
        "id": "zOyW4UIy5yQV"
      },
      "source": [
        "y_test_pred = b + a*x_test # рассчитаем выходы модели на тестовых примерах входов\n",
        "#у нас уже были соответствующие желаемые тестовые выходы для них в y_test"
      ],
      "execution_count": null,
      "outputs": []
    },
    {
      "cell_type": "code",
      "metadata": {
        "ExecuteTime": {
          "end_time": "2020-10-11T10:01:44.571192Z",
          "start_time": "2020-10-11T10:01:44.441185Z"
        },
        "colab": {
          "base_uri": "https://localhost:8080/",
          "height": 267
        },
        "id": "gNcupYwa5yQW",
        "outputId": "fa0c9cda-6100-4a07-ac13-86a0342ed8e8"
      },
      "source": [
        "# нарисуем\n",
        "import matplotlib.pyplot as plt\n",
        "plt.scatter(x_test, y_test,  color='black')\n",
        "plt.plot(x_test, y_test_pred, color='blue', linewidth=3)\n",
        "plt.show()"
      ],
      "execution_count": null,
      "outputs": [
        {
          "output_type": "display_data",
          "data": {
            "text/plain": [
              "<Figure size 432x288 with 1 Axes>"
            ],
            "image/png": "[encoded data removed]"
          },
          "metadata": {
            "needs_background": "light"
          }
        }
      ]
    },
    {
      "cell_type": "markdown",
      "metadata": {
        "id": "cUSySjLu5yQW"
      },
      "source": [
        "Получилось довольно точное приближение, значит мы обучили линейную регрессию правильно.\n",
        "### Библиотека `sklearn`\n",
        "Давайте сделаем тоже самое с помощью библиотеки. Будем использовать библиотеку [`sklearn`](https://scikit-learn.org/stable/) в которой реализовано множество моделей, в том числе и линейная регрессия.  \n",
        "Модели вообще и линейная регрессия в частности реализуются специальными классами для которых реализованы методы обучения, расчета выхода, ошибки и другие функции. Линейная регрессия представлена в [`LinearRegression`](https://scikit-learn.org/stable/modules/generated/sklearn.linear_model.LinearRegression.html). \n",
        "\n",
        "Давайте подключим эту модель из `sklearn.linear_model` и создадим объект такого класса.\n",
        "\n",
        "Для модели линейной регрессии реализовано несколько методов:\n",
        "* `fit()` -  для обучения моделей. Мы указываем массив примеров входов, массив примеров желаемых выходов (указаний учителя) и, возможно, дополнительные аргументы. Создает дополнительно поля `coef_` для хранения множителей **a** и `intercept_` для смещений **b**. (изначально таких полей нет).\n",
        "* `predict()` - расчет выходов модели при заданных входах и сохраненных в модели параметрах\n",
        "* `score()` - расчет значения функции ошибки для заданных примеров\n",
        "* `get_params()`, `set_params()` - для чтения и установки параметров модели.\n",
        "\n",
        "\n",
        "В `sklearn`, да и во многих других библиотеках, принято, чтобы в массивах примеры были первым измерением, а признаки - вторым. Для регрессии одномерной величины на 70 примерах, массив примеров должен быть размером 70 на 1. За этим нужно внимательно следить, если мы перепутаем порядок измерений и подадим массивы размера 1 на 70, то вычислительной ошибки не будет, но мы решим не ту задачу: вместо регрессии одномерной величины на 70 примерах, мы найдем регрессию 70-мерной величины на одном примере. Поэтому мы принудительно переформатируем размер массивов с помощью `reshape()`. Очевидно количество примеров в массивах входа и желаемого выхода должно быть одинаковым. \n",
        "\n",
        "*Примечание: По-видимому `sklearn` использует другой метод для обучения (на основе решения системы линейных уравнений), а не градиентный спуск, и немного другую функцию ошибки, но результат тот-же. Поэтому здесь не задается ни начальное значение параметров (инициализация), ни величина шага обучения. Это допустимо для линейной регрессии, но для более сложных случаев так не получится.*  \n"
      ]
    },
    {
      "cell_type": "code",
      "metadata": {
        "ExecuteTime": {
          "end_time": "2020-10-11T10:02:08.522562Z",
          "start_time": "2020-10-11T10:02:07.698515Z"
        },
        "colab": {
          "base_uri": "https://localhost:8080/",
          "height": 285
        },
        "id": "_Xybbmtx5yQY",
        "outputId": "ac33504f-a3e5-426d-bc28-c601bfd05062"
      },
      "source": [
        "from sklearn.linear_model import LinearRegression # подключим модель линейной регрессии\n",
        "linr = LinearRegression() # создадим ее\n",
        "linr.fit(x_train.reshape(70, 1), y_train.reshape(70, 1)) # обучим модель, принудительно переформатировав размеры массивов\n",
        "print('Обученные параметры: b=%6.4f a=%6.4f'%(linr.intercept_, linr.coef_)) #\n",
        "\n",
        "y_test_pred=linr.predict(x_test.reshape(30,1))# посчитаем выход модели на тестовых примерах\n",
        "plt.plot(x_test, y_test_pred, color='blue', linewidth=3)# нарисуем его \n",
        "plt.scatter(x_test, y_test,  color='black') # и желаемый\n",
        "plt.show()\n"
      ],
      "execution_count": null,
      "outputs": [
        {
          "output_type": "stream",
          "name": "stdout",
          "text": [
            "Обученные параметры: b=0.9860 a=1.9868\n"
          ]
        },
        {
          "output_type": "display_data",
          "data": {
            "text/plain": [
              "<Figure size 432x288 with 1 Axes>"
            ],
            "image/png": "[encoded data removed]"
          },
          "metadata": {
            "needs_background": "light"
          }
        }
      ]
    },
    {
      "cell_type": "markdown",
      "metadata": {
        "id": "1kNPGisf5yQY"
      },
      "source": [
        "Давайте теперь попробуем сделать линейную регрессию на каких-то более-менее реальных данных из примеров `sklearn`. В этом наборе для классификации содержатся 3 класса примеров, количество примеров 59,71,48 для соответствующих классов (всего 178 примеров), каждый пример это 13-мерный вектор из действительных положительных чисел и номер класса.\n",
        "\n",
        "Нам пригодятся вспомогательные функции `sklearn`:\n",
        "* `train_test_split()` - случайно разделяющая данные на обучающие и тестовые в заданных долях. Подключаем ее из `sklearn.model_selection`\n",
        "\n"
      ]
    },
    {
      "cell_type": "code",
      "metadata": {
        "ExecuteTime": {
          "end_time": "2020-10-11T10:02:15.297950Z",
          "start_time": "2020-10-11T10:02:15.218945Z"
        },
        "id": "rOWysmVs5yQZ"
      },
      "source": [
        "from sklearn.datasets import load_wine # функция которая загружает набор данных "
      ],
      "execution_count": null,
      "outputs": []
    },
    {
      "cell_type": "code",
      "metadata": {
        "ExecuteTime": {
          "end_time": "2020-10-11T10:02:16.141998Z",
          "start_time": "2020-10-11T10:02:16.108996Z"
        },
        "colab": {
          "base_uri": "https://localhost:8080/"
        },
        "id": "SBIpeVn95yQZ",
        "outputId": "8823b65b-751c-4cfa-8c24-80cff373bc8f"
      },
      "source": [
        "data_wine = load_wine() # загружаем набор данных\n",
        "data_wine.target[[10, 80, 140]] # в поле target хранятся номера классов примеров, некоторые из них приведены"
      ],
      "execution_count": null,
      "outputs": [
        {
          "output_type": "execute_result",
          "data": {
            "text/plain": [
              "array([0, 1, 2])"
            ]
          },
          "metadata": {},
          "execution_count": 81
        }
      ]
    },
    {
      "cell_type": "code",
      "metadata": {
        "ExecuteTime": {
          "end_time": "2020-10-11T10:02:17.075051Z",
          "start_time": "2020-10-11T10:02:17.067051Z"
        },
        "colab": {
          "base_uri": "https://localhost:8080/"
        },
        "id": "WPrCKHJF5yQa",
        "outputId": "ceee3771-1369-4336-b8aa-5ec89ed1bfa9"
      },
      "source": [
        "list(data_wine.target_names) # названия классов в поле target_names"
      ],
      "execution_count": null,
      "outputs": [
        {
          "output_type": "execute_result",
          "data": {
            "text/plain": [
              "['class_0', 'class_1', 'class_2']"
            ]
          },
          "metadata": {},
          "execution_count": 82
        }
      ]
    },
    {
      "cell_type": "code",
      "metadata": {
        "ExecuteTime": {
          "end_time": "2020-10-11T10:02:18.983160Z",
          "start_time": "2020-10-11T10:02:18.968160Z"
        },
        "colab": {
          "base_uri": "https://localhost:8080/"
        },
        "id": "P1oh-BnC5yQb",
        "outputId": "98a6fca0-29e0-498b-a9ae-5d7ed1662556"
      },
      "source": [
        "X = data_wine.data # в поле data - примеры входов, вектора\n",
        "y = data_wine.target # Указания учителя = номера классов\n",
        "\n",
        "from sklearn.model_selection import train_test_split # подключаем функцию для разделения данных\n",
        "X_train, X_test, y_train, y_test = train_test_split(X, y, test_size=0.3) # и отдаем 30% на тест, остальное на обучение\n",
        "#y_train # убедитесь что и в обучении и в тесте есть данные разных классов\n",
        "y_test #"
      ],
      "execution_count": null,
      "outputs": [
        {
          "output_type": "execute_result",
          "data": {
            "text/plain": [
              "array([2, 1, 1, 2, 1, 2, 0, 1, 2, 2, 1, 0, 0, 1, 0, 2, 0, 1, 0, 0, 1, 1,\n",
              "       1, 2, 2, 0, 0, 0, 1, 1, 0, 1, 2, 2, 0, 0, 1, 0, 1, 2, 2, 2, 2, 2,\n",
              "       1, 0, 1, 1, 0, 2, 1, 1, 0, 1])"
            ]
          },
          "metadata": {},
          "execution_count": 84
        }
      ]
    },
    {
      "cell_type": "code",
      "metadata": {
        "ExecuteTime": {
          "end_time": "2020-10-11T10:02:20.852267Z",
          "start_time": "2020-10-11T10:02:20.840267Z"
        },
        "colab": {
          "base_uri": "https://localhost:8080/"
        },
        "id": "O7pYgKYR5yQc",
        "outputId": "bf7ee754-9d62-40b8-aef0-fccb8cb3a1a3"
      },
      "source": [
        "X_train[:3] # первые три примера входов обучающих данных "
      ],
      "execution_count": null,
      "outputs": [
        {
          "output_type": "execute_result",
          "data": {
            "text/plain": [
              "array([[1.286e+01, 1.350e+00, 2.320e+00, 1.800e+01, 1.220e+02, 1.510e+00,\n",
              "        1.250e+00, 2.100e-01, 9.400e-01, 4.100e+00, 7.600e-01, 1.290e+00,\n",
              "        6.300e+02],\n",
              "       [1.390e+01, 1.680e+00, 2.120e+00, 1.600e+01, 1.010e+02, 3.100e+00,\n",
              "        3.390e+00, 2.100e-01, 2.140e+00, 6.100e+00, 9.100e-01, 3.330e+00,\n",
              "        9.850e+02],\n",
              "       [1.413e+01, 4.100e+00, 2.740e+00, 2.450e+01, 9.600e+01, 2.050e+00,\n",
              "        7.600e-01, 5.600e-01, 1.350e+00, 9.200e+00, 6.100e-01, 1.600e+00,\n",
              "        5.600e+02]])"
            ]
          },
          "metadata": {},
          "execution_count": 85
        }
      ]
    },
    {
      "cell_type": "code",
      "metadata": {
        "ExecuteTime": {
          "end_time": "2020-10-11T10:02:22.674372Z",
          "start_time": "2020-10-11T10:02:22.657371Z"
        },
        "colab": {
          "base_uri": "https://localhost:8080/"
        },
        "id": "HxyEEIQF5yQc",
        "outputId": "07e45825-1d0c-4c5f-e4cd-6954eafaabbe"
      },
      "source": [
        "lin_clf = LinearRegression() # создаем модель линейной регресии\n",
        "lin_clf.fit(X_train, y_train) # обучаем ее\n",
        "print(f'Обученные параметры: \\nСмещение b={lin_clf.intercept_:6.4f} ')\n",
        "print('Множители a= ',lin_clf.coef_)"
      ],
      "execution_count": null,
      "outputs": [
        {
          "output_type": "stream",
          "name": "stdout",
          "text": [
            "Обученные параметры: \n",
            "Смещение b=3.2187 \n",
            "Множители a=  [-9.99283466e-02  4.42483561e-02 -2.65389840e-01  5.51342674e-02\n",
            "  2.45536262e-05  1.01154329e-01 -2.97427943e-01 -3.43216020e-01\n",
            "  4.07681849e-03  6.87248542e-02 -1.70907354e-01 -2.92022278e-01\n",
            " -6.63034414e-04]\n"
          ]
        }
      ]
    },
    {
      "cell_type": "markdown",
      "metadata": {
        "id": "PnvlamJw5yQd"
      },
      "source": [
        "Давайте разберемся, что же модель нам предсказала.\n",
        "\n",
        "Для расчета выходов модели используем `predict()` на тестовых данных. А чтобы посчитать ошибку между действительным и желаемым выходом - `score()` (это приведенная ошибка в диапазоне от 0 до 1).\n",
        "\n",
        "Посмотрим на визуализацию. Мы не можем рисовать 13-мерные графики, поэтому нарисуем их одномерные проекции. "
      ]
    },
    {
      "cell_type": "code",
      "metadata": {
        "ExecuteTime": {
          "end_time": "2020-10-11T10:02:26.361582Z",
          "start_time": "2020-10-11T10:02:26.248576Z"
        },
        "colab": {
          "base_uri": "https://localhost:8080/",
          "height": 300
        },
        "id": "fz8iXT4y5yQd",
        "outputId": "926cd1eb-5c8b-4e32-87a9-cc22eeb51efc"
      },
      "source": [
        "y_predicted = lin_clf.predict(X_test) # рассчитываем выходы модели на тестовых данных\n",
        "score=lin_clf.score(X_test,y_test)# считаем ошибку\n",
        "print(score)#\n",
        "i=0 # номер измерения для построения\n",
        "plt.scatter(X_test[:,i], y_test,  color='black')# строим желаемые выходы \n",
        "plt.scatter(X_test[:,i], y_predicted, color='blue', linewidth=3)# и рассчитанные"
      ],
      "execution_count": null,
      "outputs": [
        {
          "output_type": "stream",
          "name": "stdout",
          "text": [
            "0.8665353108879098\n"
          ]
        },
        {
          "output_type": "execute_result",
          "data": {
            "text/plain": [
              "<matplotlib.collections.PathCollection at 0x7f3678c925e0>"
            ]
          },
          "metadata": {},
          "execution_count": 87
        },
        {
          "output_type": "display_data",
          "data": {
            "text/plain": [
              "<Figure size 432x288 with 1 Axes>"
            ],
            "image/png": "[encoded data removed]"
          },
          "metadata": {
            "needs_background": "light"
          }
        }
      ]
    },
    {
      "cell_type": "markdown",
      "metadata": {
        "id": "bRlWULd-5yQe"
      },
      "source": [
        "Не очень-то хорошее приближение.\n",
        "\n",
        "Но вообще-то мы решаем задачу классификации, а не регрессии. Надо перевести выходы регрессии в номера классов, т.е. как-то *закодировать* классы. \n",
        "\n",
        "Простой вариант кодирования:  округлим значения выходов до ближайшего целого, если результат меньше 0, то установим 0, если больше 2, то установим 2. Полученное число и будем считать номером класса. \n",
        "\n",
        "Сравним с указаниями учителя и посчитаем долю правильных (совпадающих) примеров.\n",
        "\n"
      ]
    },
    {
      "cell_type": "code",
      "metadata": {
        "ExecuteTime": {
          "end_time": "2020-10-11T10:02:36.231147Z",
          "start_time": "2020-10-11T10:02:36.220146Z"
        },
        "colab": {
          "base_uri": "https://localhost:8080/"
        },
        "id": "uizVMINc5yQf",
        "outputId": "7e3975f4-354b-4d88-9715-b119b9c0cbc0"
      },
      "source": [
        "y_pred_class=np.rint(y_predicted)\n",
        "y_pred_class[y_pred_class>2]=2\n",
        "y_pred_class[y_pred_class<0]=0\n",
        "y_pred_class=y_pred_class.astype('int')\n",
        "score=np.sum(y_pred_class==y_test)/len(y_test)\n",
        "score"
      ],
      "execution_count": null,
      "outputs": [
        {
          "output_type": "execute_result",
          "data": {
            "text/plain": [
              "0.9444444444444444"
            ]
          },
          "metadata": {},
          "execution_count": 32
        }
      ]
    },
    {
      "cell_type": "markdown",
      "source": [
        "Итак, хоть ошибка регрессии визуально большая, но для задачи классификации этих данных линейной регрессии достаточно. \n",
        "\n"
      ],
      "metadata": {
        "id": "mQFRSEHdrDw3"
      }
    },
    {
      "cell_type": "markdown",
      "metadata": {
        "id": "ei1q2K-A5yQf"
      },
      "source": [
        "Линейная регрессия очень простая модель, может моделировать только линейные зависимости. Не устойчива к *выбросам* - данным, которые резко выбиваются из примерной зависимости остальных данных (например, из-за ошибки измерения). Попробуйте в предыдущих примерах обучить линейную регрессию, на тех же данных, что были в начале нашего урока (почти линейные) но один обучающий пример испортите - сделайте для него выход скажем равным 100. И попробуйте снова обучить модель.      "
      ]
    },
    {
      "cell_type": "markdown",
      "metadata": {
        "id": "u9UuDXS15yQj"
      },
      "source": [
        "# Обсуждение и задания\n",
        "Посчитайте самостоятельно сколько правильно и неправильно угаданных классов, если считать истинный класс 0 если X меньше и класс 1 если больше порога. \n",
        "Онлайн визуализацию для линейных моделей можно найти здесь.\n",
        "\n",
        "http://vision.stanford.edu/teaching/cs231n-demos/linear-classify/ "
      ]
    },
    {
      "cell_type": "code",
      "source": [],
      "metadata": {
        "id": "rtJa2fCLxnzK"
      },
      "execution_count": null,
      "outputs": []
    }
  ]
}