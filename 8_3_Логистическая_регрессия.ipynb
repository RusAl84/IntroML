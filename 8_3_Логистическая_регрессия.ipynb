{
  "nbformat": 4,
  "nbformat_minor": 0,
  "metadata": {
    "hide_input": false,
    "kernelspec": {
      "display_name": "Python 3",
      "language": "python",
      "name": "python3"
    },
    "language_info": {
      "codemirror_mode": {
        "name": "ipython",
        "version": 3
      },
      "file_extension": ".py",
      "mimetype": "text/x-python",
      "name": "python",
      "nbconvert_exporter": "python",
      "pygments_lexer": "ipython3",
      "version": "3.7.6"
    },
    "latex_envs": {
      "LaTeX_envs_menu_present": true,
      "autoclose": false,
      "autocomplete": true,
      "bibliofile": "biblio.bib",
      "cite_by": "apalike",
      "current_citInitial": 1,
      "eqLabelWithNumbers": true,
      "eqNumInitial": 1,
      "hotkeys": {
        "equation": "Ctrl-E",
        "itemize": "Ctrl-I"
      },
      "labels_anchors": false,
      "latex_user_defs": false,
      "report_style_numbering": false,
      "user_envs_cfg": false
    },
    "nbTranslate": {
      "displayLangs": [
        "*"
      ],
      "hotkey": "alt-t",
      "langInMainMenu": true,
      "sourceLang": "en",
      "targetLang": "fr",
      "useGoogleTranslate": true
    },
    "toc": {
      "base_numbering": 1,
      "nav_menu": {},
      "number_sections": false,
      "sideBar": true,
      "skip_h1_title": true,
      "title_cell": "Table of Contents",
      "title_sidebar": "Contents",
      "toc_cell": false,
      "toc_position": {},
      "toc_section_display": true,
      "toc_window_display": false
    },
    "varInspector": {
      "cols": {
        "lenName": 16,
        "lenType": 16,
        "lenVar": 40
      },
      "kernels_config": {
        "python": {
          "delete_cmd_postfix": "",
          "delete_cmd_prefix": "del ",
          "library": "var_list.py",
          "varRefreshCmd": "print(var_dic_list())"
        },
        "r": {
          "delete_cmd_postfix": ") ",
          "delete_cmd_prefix": "rm(",
          "library": "var_list.r",
          "varRefreshCmd": "cat(var_dic_list()) "
        }
      },
      "types_to_exclude": [
        "module",
        "function",
        "builtin_function_or_method",
        "instance",
        "_Feature"
      ],
      "window_display": false
    },
    "colab": {
      "provenance": [],
      "include_colab_link": true
    }
  },
  "cells": [
    {
      "cell_type": "markdown",
      "metadata": {
        "id": "view-in-github",
        "colab_type": "text"
      },
      "source": [
        "<a href=\"https://colab.research.google.com/github/RusAl84/IntroML/blob/master/8_3_%D0%9B%D0%BE%D0%B3%D0%B8%D1%81%D1%82%D0%B8%D1%87%D0%B5%D1%81%D0%BA%D0%B0%D1%8F_%D1%80%D0%B5%D0%B3%D1%80%D0%B5%D1%81%D1%81%D0%B8%D1%8F.ipynb\" target=\"_parent\"><img src=\"https://colab.research.google.com/assets/colab-badge.svg\" alt=\"Open In Colab\"/></a>"
      ]
    },
    {
      "cell_type": "markdown",
      "metadata": {
        "id": "e7_t378b5yQg"
      },
      "source": [
        "# Логистическая регрессия\n",
        "Логистическая регрессия похожа на линейную, но выход ее это не просто сумма произведений параметров и входов со смещением, а некоторая функция от этого. Применяют функцию под названием \"сигмоида\" или \"логистическая функция\", отсюда и название модели.\n",
        "\n",
        "Сигмоида это функция вида: \\\\(f(x)= \\frac{1}{1+e^{-x}}\\\\)\n",
        "\n",
        "Нарисуем ее график, позаимствовав эту функцию, назвали `expit()`, из библиотеки [`scipy.special`](https://docs.scipy.org/doc/scipy/reference/special.html)  "
      ]
    },
    {
      "cell_type": "code",
      "metadata": {
        "ExecuteTime": {
          "end_time": "2020-10-11T10:02:48.273836Z",
          "start_time": "2020-10-11T10:02:48.133828Z"
        },
        "colab": {
          "base_uri": "https://localhost:8080/",
          "height": 295
        },
        "id": "2pfK2C5K5yQg",
        "outputId": "c2151448-7aff-4d85-c7b8-fa791028583b"
      },
      "source": [
        "import numpy as np\n",
        "import matplotlib.pyplot as plt\n",
        "from scipy.special import expit # подключаем функцию из библиотеки\n",
        "x = np.linspace(-6, 6, 121) # диапазон по х\n",
        "y = expit(x) # значение функции по у\n",
        "plt.plot(x, y) #\n",
        "plt.grid() #\n",
        "plt.xlim(-6, 6)#\n",
        "plt.xlabel('x')#\n",
        "plt.title('expit(x)')#\n",
        "plt.show()#"
      ],
      "execution_count": null,
      "outputs": [
        {
          "output_type": "display_data",
          "data": {
            "text/plain": [
              "<Figure size 432x288 with 1 Axes>"
            ],
            "image/png": "[encoded data removed]"
          },
          "metadata": {
            "needs_background": "light"
          }
        }
      ]
    },
    {
      "cell_type": "markdown",
      "metadata": {
        "id": "OmruargC5yQg"
      },
      "source": [
        "Как нетрудно убедиться значения этой функции всегда лежат в пределах от 0 до 1, в нуле принимает значение 0.5. Если бы мы просто в линейной регрессии добавили эту функцию, то никогда не смогли бы моделировать зависимости, у которых выходная переменная больше 1 или меньше 0. Поэтому в логистической регрессии требуют, чтобы и указания учителя были в диапазоне 0...1.\n",
        "\n",
        "Выход же логистической регрессии: \n",
        "\n",
        "\\\\(\\overrightarrow{y}=f(A*\\overrightarrow{x}+\\overrightarrow{b})\\\\), \n",
        "\n",
        "где сигмоида применяется поэлементно к каждому компоненту вектора.\n",
        "\n",
        "Для задач классификации, можно существенно изменить функцию ошибки. Давайте будем рассматривать только бинарную (двухклассовую) классификацию, и будем один класс обозначать величиной 0, второй - величиной 1. Тогда выход логистической регрессии (он от 0 до 1) можно интерпретировать как уверенность модели в том, что вход принадлежит к одному из классов. Выход ближе к нулю - принадлежит к классу 0, выход ближе к 1 - принадлежит классу 1.\n"
      ]
    },
    {
      "cell_type": "markdown",
      "source": [
        "\n",
        "Чтобы понять функцию ошибки будем рассуждать так:\n",
        "\n",
        "Давайте посчитаем, насколько **правдоподобно**, что выход описывает заданный класс: \n",
        "* если класс должен быть 1, то правдоподобие для него это само значение выхода модели y (должно быть 1, а получилось y, например выход у=0.3 - правдоподобие = 0.3 - совершенно не правдоподобно, очень маленькая уверенность, что класс 1; выход у=0.9 - правдоподобие = 0.9 - правдоподобно, большая уверенность в том, что класс 1).\n",
        "* если класс должен быть 0, то правдоподобие для него это единица минус значение выхода модели y (должно быть 0, а получилось y, например выход у=0.3 - правдоподобие 1-0.3=0.7 - правдоподобно, большая уверенность в том, что класс 0; выход у=0.9 - правдоподобие 1-0.9=0.1 - совершенно не правдоподобно, очень маленькая уверенность, что класс 0).\n",
        "\n"
      ],
      "metadata": {
        "id": "A9BKpDdes3EY"
      }
    },
    {
      "cell_type": "markdown",
      "source": [
        "\n",
        "Выше приведены рассуждения для одного примера, если их несколько, то найдем произведение правдоподобий для каждого примера.\n",
        "\n",
        "Например:\n",
        "* для хорошего классификатора: получились выходы 0.1, 0.9, 0.8, а должны были получиться 0, 1, 1. Общее правдоподобие (1-0.1) * 0.9 * 0.8 = 0.648 довольно большое;\n",
        "* для плохого классификатора: получились выходы 0.4, 0.6, 0.5, а должны были получиться 0, 1, 1. Общее правдоподобие (1-0.4) * 0.6 * 0.5 = 0.18 существенно меньше;\n",
        "* для классификатора-врунишки, который все классы путает: получились выходы 0.7, 0.2, 0.1, а должны были получиться 0, 1, 1. Общее правдоподобие (1-0.7) * 0.2 * 0.1 = 0.006 очень маленькое.\n",
        "\n",
        "Но работать с произведением маленьких чисел, когда их много (в пакете примеров может быть довольно много), очень сложно, поэтому от значений правдоподобия переходят к его логарифму. Тогда числа по модулю уже не будут маленькими (но будут отрицательными), а произведение превратится в сумму (вспомните свойства логарифма).\n",
        "\n",
        "Значения, которые мы подставляли для правдоподобия зависят от того, какой класс должен был получиться. Чтобы эти условия \"если...\" реализовать в одной формуле, можно поступить так:\n",
        "- когда класс равен 0 нам нужно использовать \\\\(ln(1-y)\\\\), когда класс равен 1 нам нужно использовать  \\\\(ln(y)\\\\).\n",
        "- запишем такую формулу: \\\\(t*ln(y)+(1-t)*ln(1-y)\\\\), где t (0 или 1) наш класс.   \n",
        "- тогда при t=0 остается второе слагаемое \\\\(ln(1-y)\\\\), а при t=1 остается только первое слагаемое \\\\(ln(y)\\\\), как мы и хотели.\n",
        "\n",
        "Итак, общее правдоподобие нашей модели:\n",
        "\n",
        "$ E=\\sum_{i=1}^{P} (t(x_i)*ln(y(x_i))+(1-t(x_i))*ln(1-y(x_i))\\\\\n",
        "x_i : i-ый\\ пример\\ входа\\\\\n",
        "t(x_i) : указание\\ учителя\\ для\\ него\\\\\n",
        "y(x_i) : выход\\ модели\\ для\\ него \\\\ $\n",
        "\n",
        "Правдоподобие нужно максимизировать, поменяем знак, можно минимизировать. Функция ошибки здесь это минус правдоподобие модели. Похожую формулу можно записать и для случая, когда классов больше чем два, но сейчас мы не будем этого делать. \n"
      ],
      "metadata": {
        "id": "XG0jj6pskv-4"
      }
    },
    {
      "cell_type": "markdown",
      "source": [
        "\n",
        "В функцию ошибки часто добавляют дополнительные члены, регуляризаторы, которые вводят некоторые ограничения, например, чтобы величина параметров была не очень большая. Это бывает и полезно и вредно для обучения. Мы не будем трогать параметры по умолчанию, пока не придется.\n",
        "\n",
        "Обучается такая модель методами на основе градиентного спуска (чистым градиентным спуском пользуются редко, обычно используют всякие его модификации, в которых, например, могут управлять величиной шага обучения или др.). Какой именно метод используется здесь для наших уроков не принципиально. \n"
      ],
      "metadata": {
        "id": "UkJGookhs9MP"
      }
    },
    {
      "cell_type": "markdown",
      "source": [
        "\n",
        "В `sklearn` логистическая регрессия задается с помощью [`LogisticRegression()`](https://scikit-learn.org/stable/modules/generated/sklearn.linear_model.LogisticRegression.html#sklearn.linear_model.LogisticRegression) у которой есть такие же методы как и у `LinearRegression()` и некоторые специфичные аргументы:\n",
        "* tol - точность до которой нужно обучать модель\n",
        "* C - 1/коэффициент важности регуляризуещего члена в функции ошибки\n",
        "* penalty -  вид регуляризации, 'none' если хотим отключить регуляризацию (по умолчанию включена)\n",
        "* solver - название метода обучения, не будем трогать.\n",
        "* max_iter - максимальное количество итераций для обучения\n",
        "\n",
        "*Примечание: формулы приведенные для [`LogisticRegression`](https://scikit-learn.org/stable/modules/linear_model.html#logistic-regression) в документации, отличаются от наших, поскольку они выведены для случая когда желаемый выход +1 или -1, а в наших 0 либо 1.* \n",
        "\n",
        "Для логистической регрессии метод `predict()` возвращает классы (0 или 1 в нашем случае).\n",
        "\n",
        "Чтобы вернуть выход используем метод `predict_proba()`. Он вернет величины правдоподобия для класса 0 (единица минус выход) и 1 (выход). \n",
        "\n"
      ],
      "metadata": {
        "id": "62rypOHxtMK4"
      }
    },
    {
      "cell_type": "code",
      "metadata": {
        "ExecuteTime": {
          "end_time": "2020-10-11T10:02:52.892100Z",
          "start_time": "2020-10-11T10:02:52.720090Z"
        },
        "colab": {
          "base_uri": "https://localhost:8080/",
          "height": 298
        },
        "id": "JX16q4wS5yQh",
        "outputId": "cc924d07-1dcb-4396-8f42-df1bc0cc089a"
      },
      "source": [
        "# import numpy as np #\n",
        "import matplotlib.pyplot as plt #\n",
        "\n",
        "from sklearn import linear_model #\n",
        "from scipy.special import expit # функция для сигмоиды\n",
        "\n",
        "# создадим данные: два отрезка на уровне 0 и 1\n",
        "\n",
        "n_samples = 100 # число примеров\n",
        "np.random.seed(0) # инициализация генератора случайных чисел\n",
        "X = 1*np.random.normal(size=n_samples) # случаные числа по х, с нормальным законом распределения\n",
        "y = (X > 0).astype(np.float) # класс 1 если больше нуля, 0 иначе, преобразуем в тип float\n",
        "X[X > 0] *= 4 # умножим примеры входов из класса 1 на 4\n",
        "X += .3 * np.random.normal(size=n_samples) # добавим ко всем примерам входа шум - случаные числа не очень большого разброса\n",
        "\n",
        "X = X[:, np.newaxis] # сделаем столбец, добавив новое измерение к массиву, был одномерный станет двумерный. Можно было бы использовать reshape как раньше\n",
        "\n",
        "# Обучение классификатора\n",
        "log_reg = linear_model.LogisticRegression(C=1e5, max_iter=200) # создаем логистическую регрессию, C ставим побольше, это значит регуляризация будет влиять мало на результат\n",
        "log_reg.fit(X, y) # обучаем модель, мы не стали разделять на обучающие и тестовые данные сейчас.\n",
        "\n",
        "# рисуем результат\n",
        "plt.figure(1, figsize=(4, 3)) # \n",
        "plt.clf() #\n",
        "plt.scatter(X.ravel(), y, color='black', zorder=20) # ravel() вытягивает массив, превращая его в одномерный\n",
        "\n",
        "X_test = np.linspace(-5, 10, 300) # вот теперь создадим тестовые примеры входов\n",
        "\n",
        "# посчитаем выход модели\n",
        "loss = expit(X_test * log_reg.coef_ + log_reg.intercept_).ravel() # вручную\n",
        "loss1 = log_reg.predict_proba(X_test[:, np.newaxis])[:,1].ravel() # через predict_proba, берем второй столбец (индекс 1) , чтобы сам выход вернуть\n",
        "plt.plot(X_test, loss1, color='red', linewidth=3) #\n",
        "\n",
        "# сравним с линейной регрессией\n",
        "ols = linear_model.LinearRegression() # линейная регрессия\n",
        "ols.fit(X, y) # обучаем ее\n",
        "plt.plot(X_test, ols.coef_ * X_test + ols.intercept_, linewidth=1)\n",
        "\n",
        "# рисуем\n",
        "plt.axhline(.5, color='.5') #\n",
        "\n",
        "plt.ylabel('y') #\n",
        "plt.xlabel('X') #\n",
        "plt.xticks(range(-5, 10)) #\n",
        "plt.yticks([0, 0.5, 1]) #\n",
        "plt.ylim(-.25, 1.25) #\n",
        "plt.xlim(-4, 10) #\n",
        "plt.legend(('Logistic Regression Model', 'Linear Regression Model'), #\n",
        "           loc=\"lower right\", fontsize='small') #\n",
        "plt.tight_layout() #\n",
        "plt.show() #"
      ],
      "execution_count": null,
      "outputs": [
        {
          "output_type": "stream",
          "name": "stderr",
          "text": [
            "<ipython-input-7-9016004adb05>:12: DeprecationWarning: `np.float` is a deprecated alias for the builtin `float`. To silence this warning, use `float` by itself. Doing this will not modify any behavior and is safe. If you specifically wanted the numpy scalar type, use `np.float64` here.\n",
            "Deprecated in NumPy 1.20; for more details and guidance: https://numpy.org/devdocs/release/1.20.0-notes.html#deprecations\n",
            "  y = (X > 0).astype(np.float) # класс 1 если больше нуля, 0 иначе, преобразуем в тип float\n"
          ]
        },
        {
          "output_type": "display_data",
          "data": {
            "text/plain": [
              "<Figure size 288x216 with 1 Axes>"
            ],
            "image/png": "[encoded data removed]"
          },
          "metadata": {
            "needs_background": "light"
          }
        }
      ]
    },
    {
      "cell_type": "markdown",
      "metadata": {
        "id": "P1uzwHNT5yQi"
      },
      "source": [
        "## Понятие разделяющей поверхности\n",
        "Выше мы рассмотрели линейную и логистическую регрессии. Если мы используем  их для классификации, то вводится некоторое правило, как относить выходы к классам, например для двух классов для линейной регрессии можно считать так: если выход меньше нуля, то первый класс, если больше - второй. В логистической регрессии принято выбирать такой класс, для которого уверенность максимальна. Как именно относить выходы к классам это наш выбор, в некоторых библиотеках реализована возможность задать порог для такого отнесения, в некоторых нет, тогда используются наперед заданные значения. \n",
        "\n",
        "Давайте зададимся таким вопросом. Пусть решаем задачу бинарной классификации, есть примеры входов в двумерном пространстве, и мы обучили на них линейную и логистическую регрессии. Если мы, после обучения, проверим классы выдаваемые этими моделями для всех точек двумерной плоскости, то какую картину мы увидим? Давайте нарисуем."
      ]
    },
    {
      "cell_type": "code",
      "metadata": {
        "ExecuteTime": {
          "end_time": "2020-10-11T10:02:59.092455Z",
          "start_time": "2020-10-11T10:02:58.664430Z"
        },
        "colab": {
          "base_uri": "https://localhost:8080/",
          "height": 304
        },
        "id": "Iyx8mdcs5yQi",
        "outputId": "64331dac-153d-41e9-ca6e-e10d7d7db0fa"
      },
      "source": [
        "import numpy as np\n",
        "import matplotlib.pyplot as plt\n",
        "from sklearn import linear_model #\n",
        "\n",
        "np.random.seed(42) # начало генератора случайных чисел, чтобы после перезапуска были одинаковые\n",
        "N=100 # число точек в одном классе\n",
        "\n",
        "# первый класс, случайные точки вокруг (-20, -20) выход = -1\n",
        "x1 = -20+5*np.random.randn(N, 1) #\n",
        "y1 = -20+5*np.random.randn(N, 1) #\n",
        "z1=-1*np.ones((100,1)) #\n",
        "# второй класс, случайные точки вокруг (+20, +20) выход = +1\n",
        "x2 = 20+5*np.random.randn(N, 1) #\n",
        "y2 = 20+5*np.random.randn(N, 1) #\n",
        "z2=+1*np.ones((100,1)) #\n",
        "\n",
        "# большой выброс, раскомментируйте для теста\n",
        "#x1[0]=+1000\n",
        "#y1[0]=+1000\n",
        "\n",
        "# Объединяем массивы в один \n",
        "Input=np.hstack((np.vstack((x1, x2)),np.vstack((y1 , y2))))\n",
        "Output=np.vstack((z1,z2))\n",
        "#print(Input.shape)\n",
        "#print(Output.shape)\n",
        "\n",
        "fig, ax = plt.subplots()\n",
        "\n",
        "# рисуем обучающие точки своим цветом\n",
        "ax.scatter(Input[0:N-1,0],Input[0:N-1,1],color='green')\n",
        "ax.scatter(Input[N:,0],Input[N:,1],color='blue')\n",
        "\n",
        "# создаем и обучаем линейную регрессию\n",
        "linr = linear_model.LinearRegression() # создадим ее. normalize=False если хотим без нормализации\n",
        "linr.fit(Input, Output) # обучим модель, принудительно переформатировав размеры массивов\n",
        "print('Обученные параметры b={d[0]} a={d[1]}'.format(d=(linr.intercept_, linr.coef_))) #\n",
        "\n",
        "out_pred=linr.predict(Input)# посчитаем выход модели\n",
        "\n",
        "# Если выход меньше нуля - принимаем за первый класс, если больше - за второй\n",
        "# найдем ошибки, т.е. не совпадение между истинными классами и полученными моделью \n",
        "err1=(out_pred>0) & (Output==-1)# думаем что второй, а на самом деле первый класс\n",
        "err2=(out_pred<0) & (Output==+1)# думаем что первый, а на самом деле второй класс\n",
        "err1=err1[:,0]\n",
        "err2=err2[:,0]\n",
        "\n",
        "# нарисуем ошибки\n",
        "ax.scatter(Input[err1,0],Input[err1,1],color='yellow',marker='x')\n",
        "ax.scatter(Input[err2,0],Input[err2,1],color='magenta',marker='x')\n",
        "\n",
        "# возьмем много точек плоскости\n",
        "h=0.2\n",
        "x_min,y_min=Input.min(axis=0)-10\n",
        "x_max, y_max=Input.max(axis=0)+10\n",
        "xx, yy = np.meshgrid(np.arange(x_min, x_max, h), np.arange(y_min, y_max, h)) # точки плоскости из равномерной сетки\n",
        "Input_test=np.c_[xx.ravel(), yy.ravel()]\n",
        "#print(Input.shape)\n",
        "\n",
        "# посчитаем для них выходы обученной линейной регрессии\n",
        "zz = linr.predict(Input_test)\n",
        "zz = zz.reshape(xx.shape)\n",
        "zz[zz>0]=1 # больше нуля - второй класс\n",
        "zz[zz<0]=-1 # меньше нуля - первый класс\n",
        "ax.contourf(xx, yy, zz, cmap=plt.cm.coolwarm, alpha=0.8); # рисуем цветом выходы для всех точек плоскости\n",
        "\n",
        "# рисуем прямую\n",
        "xxx=np.arange(x_min,x_max,h)\n",
        "yyy=-(linr.intercept_[0] + linr.coef_[0][0]*xxx)/linr.coef_[0][1] # x2=-(a1*x1+b)/a2\n",
        "\n",
        "ax.plot(xxx,yyy,color='black');\n",
        "ax.set_xlim([-40, 40])\n",
        "ax.set_ylim([-40, 40])"
      ],
      "execution_count": null,
      "outputs": [
        {
          "output_type": "stream",
          "name": "stdout",
          "text": [
            "Обученные параметры b=[-0.00616075] a=[[0.02222096 0.02578357]]\n"
          ]
        },
        {
          "output_type": "execute_result",
          "data": {
            "text/plain": [
              "(-40.0, 40.0)"
            ]
          },
          "metadata": {},
          "execution_count": 3
        },
        {
          "output_type": "display_data",
          "data": {
            "text/plain": [
              "<Figure size 432x288 with 1 Axes>"
            ],
            "image/png": "[encoded data removed]"
          },
          "metadata": {
            "needs_background": "light"
          }
        }
      ]
    },
    {
      "cell_type": "markdown",
      "metadata": {
        "id": "EC6XiPeR5yQj"
      },
      "source": [
        "Мы видим, что плоскость разделилась на две области, в одной все точки приняты за первый класс, в другой - за второй. Если присмотреться, то граница раздела между этими областями это **прямая линия**. Какие бы данные вы не подавали, как бы не обучали линейную регрессию, она всегда будет разбивать плоскость на две части - полуплоскости (для бинарной классификации). \n",
        "\n",
        "Аналогично в многомерном случае, но теперь граница раздела будет не прямой линией, а гиперплоскостью. Такая граница называется **разделяющая поверхность** и для линейной регрессии является гиперплоскостью. Можете убедиться в этом, ведь уравнение этой поверхности - границы раздела - это условие что выход равен нулю. Подставьте в уравнение выхода линейной регрессии и увидите, что получилось уравнение гиперплоскости. **В линейной регрессии разделяющая поверхность - линейная**, ее можно нарисовать.\n",
        "\n",
        "А что для логистической регрессии? Постройте аналогично, и увидите, что для нее, хотя выход логистической регрессии нелинеен по входам, разделяющая поверхность тоже линейная. Сама поверхность может отличаться от поверхности для линейной регрессии, но все равно она является линейной. "
      ]
    },
    {
      "cell_type": "code",
      "metadata": {
        "ExecuteTime": {
          "end_time": "2020-10-11T10:03:11.397158Z",
          "start_time": "2020-10-11T10:03:11.203147Z"
        },
        "colab": {
          "base_uri": "https://localhost:8080/",
          "height": 285
        },
        "id": "Kd6t53qi5yQj",
        "outputId": "a28df1b9-d257-4294-85a6-605f7d214573"
      },
      "source": [
        "import numpy as np\n",
        "import matplotlib.pyplot as plt\n",
        "from sklearn import linear_model #\n",
        "\n",
        "np.random.seed(42) # начало генератора случайных чисел, чтобы после перезапуска были одинаковые\n",
        "N=100\n",
        "\n",
        "x1 = -20+5*np.random.randn(N, 1) #\n",
        "y1 = -20+5*np.random.randn(N, 1) #\n",
        "z1=0*np.ones((100,1)) # классы должны быть 0 или 1\n",
        "\n",
        "x2 = 20+5*np.random.randn(N, 1) #\n",
        "y2 = 20+5*np.random.randn(N, 1) #\n",
        "z2=1*np.ones((100,1)) # классы должны быть 0 или 1\n",
        "\n",
        "Input=np.hstack((np.vstack((x1, x2)),np.vstack((y1 , y2))))\n",
        "Output=np.vstack((z1,z2))\n",
        "#print(Input.shape)\n",
        "#print(Output.shape)\n",
        "\n",
        "fig, ax = plt.subplots()\n",
        "\n",
        "ax.scatter(Input[0:N-1,0],Input[0:N-1,1],color='green')\n",
        "ax.scatter(Input[N:,0],Input[N:,1],color='blue')\n",
        "\n",
        "logr = linear_model.LogisticRegression() # \n",
        "logr.fit(Input, Output.ravel()) # обучим модель, \n",
        "print('Обученные параметры b={d[0]} a={d[1]}'.format(d=(logr.intercept_, logr.coef_))) #\n",
        "out_pred=logr.predict(Input)# посчитаем выход модели\n",
        "out_pred\n",
        "\n",
        "# в логистической регресии predict возвращает классы, так что не надо самим относить выходы к классам\n",
        "# больше 0.5 класс 1, меньше 0.5 класс 0.\n",
        "err1=(out_pred==1) & (Output==0)\n",
        "err2=(out_pred==0) & (Output==1)\n",
        "err1=err1[:,0]\n",
        "err2=err2[:,0]\n",
        "\n",
        "ax.scatter(Input[err1,0],Input[err1,1],color='yellow',marker='x')\n",
        "ax.scatter(Input[err2,0],Input[err2,1],color='magenta',marker='x')\n",
        "\n",
        "h=0.2\n",
        "x_min,y_min=Input.min(axis=0)-10\n",
        "x_max, y_max=Input.max(axis=0)+10\n",
        "xx, yy = np.meshgrid(np.arange(x_min, x_max, h), np.arange(y_min, y_max, h))\n",
        "Input_test=np.c_[xx.ravel(), yy.ravel()]\n",
        "#print(Input.shape)\n",
        "\n",
        "zz = logr.predict(Input_test)\n",
        "zz = zz.reshape(xx.shape)\n",
        "# в логистической регресии predict возвращает классы, так что не надо самим относить выходы к классам\n",
        "#zz[zz>0]=1\n",
        "#zz[zz<0]=-1\n",
        "ax.contourf(xx, yy, zz, cmap=plt.cm.coolwarm, alpha=0.8);\n",
        "\n",
        "xxx=np.arange(x_min,x_max,h)\n",
        "# все равно это прямая линия, но возможно с другими коэффициентами\n",
        "yyy=-(logr.intercept_[0] + logr.coef_[0][0]*xxx)/logr.coef_[0][1]\n",
        "\n",
        "ax.plot(xxx,yyy,color='black');"
      ],
      "execution_count": null,
      "outputs": [
        {
          "output_type": "stream",
          "name": "stdout",
          "text": [
            "Обученные параметры b=[-0.0643596] a=[[0.25333358 0.27715147]]\n"
          ]
        },
        {
          "output_type": "display_data",
          "data": {
            "text/plain": [
              "<Figure size 432x288 with 1 Axes>"
            ],
            "image/png": "[encoded data removed]"
          },
          "metadata": {
            "needs_background": "light"
          }
        }
      ]
    },
    {
      "cell_type": "markdown",
      "metadata": {
        "id": "OajNvbyY5yQj"
      },
      "source": [
        "### Унитарное кодирование\n",
        "Для случаев трех и более классов, разделяющая поверхность будет кусочно-линейной, состоять из частей гиперплоскостей. Постройте самостоятельно для случая трех классов.\n",
        "\n",
        "![img](https://russianblogs.com/images/10/0915e47fdf2ff18094dfb64238f713d2.JPEG) \n",
        "\n",
        "Чтобы в линейной регрессии закодировать три и более класса, можно поступить так: давайте сделаем выход многомерным, размерность его равна числу классов; пусть все элементы вектора указаний учителя равны нулю кроме одного. Элемент вектора указаний учителя с номером, совпадающим с номером класса, равен 1. Такое кодирование называется **one-hot** кодирование (иногда бинарное или унитарное кодирование). Например, для трех классов можно закодировать указания учителя так: первый класс - вектор (1, 0, 0);  второй класс - вектор (0, 1, 0); третий класс - вектор (0, 0, 1). Для линейной регрессии можно использовать и другие числа, например: первый класс - вектор (+1, -1, -1);  второй класс - вектор (-1, +1, -1); третий класс - вектор (-1, -1, +1) или аналогичные. Для логистической регрессии значения выходов и указаний учителя должны быть от 0 до 1. \n",
        "\n",
        "Относить выход к классу можно, как вариант, по максимальной близости вектора выхода к заданным векторам классов, например: выход (0.9, 0.1, 0.1) ближе всех к (1, 0, 0), а значит относится к первому классу. Можно придумать и другие способы. \n",
        "\n",
        "Вопрос, а как бы вы интерпретировали выход (0.5, 0.5, 0) ? "
      ]
    },
    {
      "cell_type": "markdown",
      "metadata": {
        "id": "u9UuDXS15yQj"
      },
      "source": [
        "# Обсуждение и задания\n",
        "Посчитайте самостоятельно сколько правильно и неправильно угаданных классов, если считать истинный класс 0 если X меньше и класс 1 если больше порога. Сравните количество ошибок для логистической и линейной регрессии. Для линейной регрессии считать класс 1 если выход больше 0.5 и 0 если меньше. \n",
        "\n",
        "Придумайте данные, для которых и логистическая регрессия будет работать плохо и покажите это.\n",
        "\n",
        "Посмотрите как влияет аргумент max_iter на качество регрессии.\n",
        "\n",
        "Онлайн визуализацию для линейных моделей можно найти здесь \n",
        "\n",
        "http://vision.stanford.edu/teaching/cs231n-demos/linear-classify/ "
      ]
    },
    {
      "cell_type": "code",
      "source": [],
      "metadata": {
        "id": "rtJa2fCLxnzK"
      },
      "execution_count": null,
      "outputs": []
    }
  ]
}