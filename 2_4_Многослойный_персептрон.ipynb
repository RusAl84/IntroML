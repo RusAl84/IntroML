{
  "nbformat": 4,
  "nbformat_minor": 0,
  "metadata": {
    "hide_input": false,
    "kernelspec": {
      "display_name": "Python 3",
      "language": "python",
      "name": "python3"
    },
    "language_info": {
      "codemirror_mode": {
        "name": "ipython",
        "version": 3
      },
      "file_extension": ".py",
      "mimetype": "text/x-python",
      "name": "python",
      "nbconvert_exporter": "python",
      "pygments_lexer": "ipython3",
      "version": "3.7.6"
    },
    "latex_envs": {
      "LaTeX_envs_menu_present": true,
      "autoclose": false,
      "autocomplete": true,
      "bibliofile": "biblio.bib",
      "cite_by": "apalike",
      "current_citInitial": 1,
      "eqLabelWithNumbers": true,
      "eqNumInitial": 1,
      "hotkeys": {
        "equation": "Ctrl-E",
        "itemize": "Ctrl-I"
      },
      "labels_anchors": false,
      "latex_user_defs": false,
      "report_style_numbering": false,
      "user_envs_cfg": false
    },
    "nbTranslate": {
      "displayLangs": [
        "*"
      ],
      "hotkey": "alt-t",
      "langInMainMenu": true,
      "sourceLang": "en",
      "targetLang": "fr",
      "useGoogleTranslate": true
    },
    "toc": {
      "base_numbering": 1,
      "nav_menu": {},
      "number_sections": false,
      "sideBar": true,
      "skip_h1_title": true,
      "title_cell": "Table of Contents",
      "title_sidebar": "Contents",
      "toc_cell": false,
      "toc_position": {},
      "toc_section_display": true,
      "toc_window_display": false
    },
    "varInspector": {
      "cols": {
        "lenName": 16,
        "lenType": 16,
        "lenVar": 40
      },
      "kernels_config": {
        "python": {
          "delete_cmd_postfix": "",
          "delete_cmd_prefix": "del ",
          "library": "var_list.py",
          "varRefreshCmd": "print(var_dic_list())"
        },
        "r": {
          "delete_cmd_postfix": ") ",
          "delete_cmd_prefix": "rm(",
          "library": "var_list.r",
          "varRefreshCmd": "cat(var_dic_list()) "
        }
      },
      "types_to_exclude": [
        "module",
        "function",
        "builtin_function_or_method",
        "instance",
        "_Feature"
      ],
      "window_display": false
    },
    "colab": {
      "provenance": [],
      "include_colab_link": true
    }
  },
  "cells": [
    {
      "cell_type": "markdown",
      "metadata": {
        "id": "view-in-github",
        "colab_type": "text"
      },
      "source": [
        "<a href=\"https://colab.research.google.com/github/RusAl84/IntroML/blob/master/2_4_%D0%9C%D0%BD%D0%BE%D0%B3%D0%BE%D1%81%D0%BB%D0%BE%D0%B9%D0%BD%D1%8B%D0%B9_%D0%BF%D0%B5%D1%80%D1%81%D0%B5%D0%BF%D1%82%D1%80%D0%BE%D0%BD.ipynb\" target=\"_parent\"><img src=\"https://colab.research.google.com/assets/colab-badge.svg\" alt=\"Open In Colab\"/></a>"
      ]
    },
    {
      "cell_type": "markdown",
      "metadata": {
        "id": "3gLDGegjd9xz"
      },
      "source": [
        "# Искусственный нейрон и многослойный персептрон"
      ]
    },
    {
      "cell_type": "markdown",
      "metadata": {
        "id": "rnquWHIJd9x6"
      },
      "source": [
        "# Искусственный нейрон\n",
        "\n",
        "Мы работаем в подходе \"черного ящика\", когда не знаем внутреннее устройство изучаемого объекта, но можем измерять его реакцию на различные воздействия, и строить модель такого объекта.\n",
        "\n",
        "![img](https://drive.google.com/uc?id=1GS0SaGo6i9K1cOkYru0Ws5tnSw61H_uo)\n",
        "\n",
        "Чтобы проводить моделирование нам необходимо:\n",
        "- определиться с решаемой задачей\n",
        "- определиться с доступными данными\n",
        "- определиться с критерием обучения, функцией ошибки и метриками\n",
        "- определиться с *видом модели*\n",
        "- определиться с методом обучения\n",
        "- определиться со способом проверки модели\n",
        "\n",
        "Множество разных моделей придумано, например, модели, сделанные в виде набора правил ЕСЛИ…ТО (известные нам деревья решений), или модели, основанные на полиномиальных функциях и прочие, прочие. Каждый имеет право придумать свою собственную модель.\n",
        "\n",
        "Среди всех возможных видов моделей особо отличаются *сетевые модели*, в которых модель является **сетью (графом) связанных между собой простых вычислительных элементов**.\n",
        "\n",
        "Такие структуры были подсмотрены в биологии при изучении строения мозга человека и животных, где увидели, что мозг состоит из множества элементов, связанных между собой. Элемент назвали **нейрон**, а сеть таких элементов – **нейронная сеть**.\n",
        "\n"
      ]
    },
    {
      "cell_type": "markdown",
      "metadata": {
        "id": "csxl4BSZd9x9"
      },
      "source": [
        "##  БИОЛОГИЧЕСКИЙ НЕЙРОН\n",
        "Упрощенно, биологический нейрон состоит из тела клетки (ядра), в котором происходит обработка сигналов, аксона (выхода) и дендритов (входов). Аксоны одних нейронов соединяются с дендритами других нейронов посредством синапсов.\n",
        "\n",
        "![img](https://drive.google.com/uc?id=1DoLXHeoa2yJfkSH571_lpkd0zH6ABraH)\n",
        "\n",
        "Один нейрон связан примерно с 20 000 других нейронов. В коре головного мозга десятки миллиардов нейронов.\n",
        "\n",
        "Биологический нейрон - очень сложное устройство, но люди научились строить его гораздо более простые искусственные модели, которые называют **искусственным нейроном**. Их много разных типов, с некоторыми мы познакомимся в этом курсе.\n"
      ]
    },
    {
      "cell_type": "markdown",
      "metadata": {
        "id": "YSOpQv97d9x_"
      },
      "source": [
        "# ПРОСТЕЙШАЯ МОДЕЛЬ ИСКУССТВЕННОГО НЕЙРОНА\n",
        "\n",
        "Нейрон принимает в себя сигналы из других нейронов через дендриты-входы, обрабатывает их и посылает результат через выход-аксон своим соседям, с которыми он связан. Выяснилось также, что сила сигнала в дендритах разная, зависит от состояния синапса. Придумали простую модель, которая имитирует такое поведение:\n",
        "\n",
        "Нейрон принимает множество входов **Х<sub>i</sub>**, умножает каждый их них на свой коэффициент (называют вес) **W<sub>i</sub>**, складывает такие произведения. К этой сумме добавляется некоторое число **W<sub>0</sub>** (называют смещением), а результат преобразуется заданной нелинейной функцией **F()** (активация) и передается на выход **Y**.\n",
        "\n",
        "![img](https://drive.google.com/uc?id=1Lq9OwxVRlMoE7fjZYcFQbaFsE14aM3kE)\n",
        "\n",
        "Входы – внешние данные; веса, смещение, активация – внутренние параметры нейрона. Каждый нейрон имеет свои собственные параметры. Изменяя параметры нейрона, изменяется и его поведение, значит, подбирая параметры нейрона мы можем его обучать.\n",
        "\n",
        "Нелинейная функция активации необходима если мы хотим делать нелинейные преобразования вход-выход, иначе они были бы линейные, что можно определить по формуле работы нейрона.\n",
        "\n",
        "К функции активации предъявляют требования (иногда нарушаются):\n",
        "- непрерывная\n",
        "- монотонная (монотонно возрастающая или монотонно убывающая)\n",
        "- нелинейная\n",
        "- дифференцируемая\n",
        "\n",
        "На картинке ниже приведены некоторые функции активации, которые часто используются в нейронах. Вспомните математику и назовите для каждой функции, какие требования для нее выполнены, а какие нет.\n",
        "\n",
        "![img](https://drive.google.com/uc?id=1j2BPkk-BUsUQ1yEcAhTPRmKvHV7U4l_q)\n",
        "\n"
      ]
    },
    {
      "cell_type": "markdown",
      "metadata": {
        "id": "ZI4aVrncd9yA"
      },
      "source": [
        "**Нейрон это вычислительный элемент**, но много ли может один нейрон?\n",
        "\n",
        "Может решать задачу классификации, если классы *линейно разделимы*.\n",
        "\n",
        "На картинке ниже между красными и синими точками (классы) можно провести прямую линию, которая их разделит, такие классы и называют линейно разделимыми, и один нейрон может решить такую задачу. Координаты точки это входы в нейрон, можно договориться, что если выход нейрона больше 0, то считаем точку синей, если меньше - то красной.\n",
        "\n",
        "Можно найти такие веса и смещение нейрона, чтобы для всех синих точек выход оказался больше 0, а для всех красных - меньше.\n",
        "\n",
        "![img](https://drive.google.com/uc?id=18zb8jA_5haS7R7f6mG3Uil1qgEZ3Ihn8)\n",
        "\n",
        "Возьмем, например, тождественную функцию активации, тогда условие раздела между классами запишется как: \\\\(x_1 * w_1+x_2 * w_2 + w_0 = 0\\\\) , а это есть уравнение прямой. Разделяющая поверхность нейрона - прямая линия (плоскость в многомерном случае).\n",
        "\n",
        "Но для случая на картинке ниже так не получится, нельзя провести прямую, которая бы разделила наши классы, они линейно неразделимы, и наш нейрон не может решить эту задачу классификации.\n",
        "\n",
        "![img](https://drive.google.com/uc?id=1bfIXKbyB7QbEcQhQRWpxZ9ZNtTjxIxRH)\n"
      ]
    },
    {
      "cell_type": "markdown",
      "metadata": {
        "id": "hWujCnqsd9yB"
      },
      "source": [
        "В замечательной книжке Кира Булычева можем найти такой диалог:\n",
        "\n",
        "> Микроскопические водоросли, примитивные организмы, встречаются на Земле. Разумом не отличаются.\n",
        ">\n",
        ">— Это еще не факт,может, если сложить их вместе, получится коллективный разум.\n",
        ">\n",
        ">— Если даже целое поле капусты сложить вместе, получится большая куча капусты, но никакого разума.\n",
        ">\n",
        "> (с) Кир Булычев\n",
        "\n",
        "И правда, как не складывай капусту, разума не получишь.\n",
        "\n",
        "Но для нейронов это не так!\n",
        "\n",
        "Если чего-то не может решить один нейрон, то, может быть, смогут несколько нейронов вместе?\n",
        "\n",
        "Давайте объединим нейроны в сеть. В зависимости от того, как именно они объединяются, получаются различные виды нейронных сетей с различными свойствами.\n",
        "\n",
        "Первый вид – слоистые нейронные сети, когда нейроны объединяются в слои, и связи есть между слоями, а среди таких сетей выделяется **многослойный персептрон** (multilayer perceptron, MLP).\n",
        "\n",
        "\n",
        "\n"
      ]
    },
    {
      "cell_type": "markdown",
      "metadata": {
        "id": "jfEv2Njyd9yC"
      },
      "source": [
        "# МНОГОСЛОЙНЫЙ ПЕРСЕПТРОН\n",
        "\n",
        "Нейроны (желтые кружки) сгруппированы в несколько слоев расположенных последовательно.\n",
        "\n",
        "Выходы всех нейронов одного слоя подключаются ко входам всех нейронов следующего слоя.\n",
        "\n",
        "Внешние данные (входы сети, синие кружки) поступают на все нейроны первого (входного) слоя.\n",
        "\n",
        "Выходы сети снимаются с выходов нейронов последнего (выходного) слоя.\n",
        "\n",
        "Слои нейронов, кроме выходного, называют скрытыми.\n",
        "\n",
        "![img](https://drive.google.com/uc?id=1fpjXqv9DgUkyi38VZUMHPjoqqD0gRaXX)\n",
        "\n"
      ]
    },
    {
      "cell_type": "markdown",
      "metadata": {
        "id": "ndwbFefXd9yC"
      },
      "source": [
        "А что может многослойный персептрон?\n",
        "\n",
        "**Все, что угодно!** (в разумных пределах). Нейроны не капуста, они могут взаимодействовать друг с другом, и в таком сотрудничестве решать любые задачи.\n",
        "\n",
        "Доказана теорема, что многослойный персептрон *с одним скрытым слоем* может аппроксимировать (приблизить) любую непрерывную функцию, заданную на ограниченном множестве, с любой заданной точностью.\n",
        "\n",
        "Если вам интересна математика - посмотрите теорему здесь: https://ru.wikipedia.org/wiki/Теорема_Цыбенко   \n",
        "\n",
        "Но к сожалению, разница между теоретическим существованием решения и возможностью его найти громадна. Поэтому, хоть и доказано, что многослойный персептрон универсален, никто не гарантирует, что вы сможете им воспользоваться для вашей задачи. Именно поэтому существует огромное разнообразие всяко-разных нейронных сетей.\n",
        "\n",
        "Сегодня персептроны используются большей частью не самостоятельно, а в составе других типов нейронных сетей, но все еще играют важную роль в построении моделей.\n"
      ]
    },
    {
      "cell_type": "markdown",
      "metadata": {
        "id": "PlkJIKg_d9yD"
      },
      "source": [
        "Как и у любой модели у персептрона есть параметры (обучаемые числа) и гиперпараметры (необучаемые, но задаваемые числа).\n",
        "\n",
        "Гиперпараметры:\n",
        "- число слоев нейронов,\n",
        "- число нейронов в каждом слое.\n",
        "\n",
        "Параметры персептрона это параметры всех его нейронов. Каждый нейрон в персептроне имеет свои собственные параметры:\n",
        "- веса, смещение,\n",
        "- функция активации (но часто ее относят к гиперпараметрам, не обучают и выбирают одинаковой у всех нейронов слоя).\n",
        "\n",
        "Для примера посчитайте сколько весов и смещений у персептрона на рисунке выше, у которого 4 входа, 4 нейрона в первом слое, 5 нейронов во втором и 3 нейрона в третьем, последнем слое.\n",
        "Помните, что выход каждого нейрона одного слоя, подключается ко входу всех нейронов следующего слоя.\n",
        "\n",
        "\n"
      ]
    },
    {
      "cell_type": "markdown",
      "metadata": {
        "id": "R2Uz9Z_Qd9yE"
      },
      "source": [
        " **Решение:**\n",
        "<details>\n",
        "\n",
        "Число весов у каждого нейрона равно числу входов в него, а значит равно числу нейронов в предыдущем слое, или, для первого слоя нейронов – числу входов в сеть.\n",
        "\n",
        "В первом слое 4(нейрона)*4(входа у каждого)=16 весов\n",
        "\n",
        "Во втором слое 5(нейронов)*4(входа у каждого)=20 весов\n",
        "\n",
        "В третьем слое 3(нейрона)*5(входов у каждого)=15 весов\n",
        "\n",
        "Итого 16+20+15=51 вес\n",
        "\n",
        "У каждого нейрона есть одно смещение, итого 4+5+3=12 смещений.\n",
        "\n",
        "Функции активации никто не обучает (а зря, вполне можно), поэтому их не считаем.\n",
        "</details>\n"
      ]
    },
    {
      "cell_type": "markdown",
      "metadata": {
        "id": "uCw25QKcd9yF"
      },
      "source": [
        "# Обучение многослойного персептрона\n",
        "\n",
        "Задача обучения — это задача оптимизации функции ошибки Е по весам (и смещениям) w, наверное, люди уже умеют оптимизировать функции. Мы уже мимоходом упоминали про градиентный спуск, именно он (или его модификации) и используется для обучения нейронных сетей и многослойного персептрона в том числе. Напомним, что такое градиентный спуск (gradient descent):\n",
        "\n",
        "Представьте, что вы стоите на горе с закрытыми глазами. Вам надо спуститься вниз. Вы не видите, где этот низ расположен, но чувствуете, в какую сторону поверхность спускается, и можете понять, идти ли вам направо или налево, чтобы спускаться.\n",
        "\n",
        "![img](https://drive.google.com/uc?id=1P1hx-S1st_Wj8BqnhQ6Jem0qoX7I9hCj)\n",
        "\n",
        "Ах, вот если бы для функции, не видя ее графика, можно было бы понять, она увеличивается или уменьшается в конкретной точке.\n",
        "Если вы не прогуливали школу, то знаете, что как раз это-то показывает производная функции. Если производная больше нуля - функция возрастает с ростом аргумента, если меньше нуля - убывает, а если ноль - то не изменяется.\n",
        "Нам нужен минимум функции ошибки, значит двигаться надо в сторону ее убывания.\n",
        "\n",
        "Вы, стоя на горе, можете сделать маленький шаг в направлении низа, и мы можем немножко изменить параметр модели в том направлении, куда функция ошибки убывает по этому параметру. А потом еще раз, и еще раз, и еще. Дойдем до низа, производная станет равна нулю. Если перескочим (ну вот такие длинные шаги), сразу почувствуем, что направление изменилось и низ с другой стороны, а производная изменит знак.\n",
        "\n",
        "Все что нам нужно сделать, так это считать производную функции ошибки по всем параметрам и изменять их, постепенно увеличивая или уменьшая в зависимости от знака (и величины) производной. В многомерном случае, когда параметров много, нам нужно считать производные функции ошибки по каждому из них, 100 параметров - 100 производных посчитать надо. Вектор, составленный из производных по каждому параметру, называют градиентом, а такой метод оптимизации – градиентный спуск.\n"
      ]
    },
    {
      "cell_type": "markdown",
      "metadata": {
        "id": "fhXbb13Xd9yH"
      },
      "source": [
        "Для любого параметра **w<sub>i</sub>** на шаге **n** мы можем найти производную функции ошибки **E** по этому параметру и изменить параметр в сторону, обратную знаку этой производной (ищем минимум). На сколько именно изменять будем регулировать числом «эта», которое называют шагом обучения.\n",
        "\n",
        "![img](https://drive.google.com/uc?id=140q4UKhC9v-Hhz7dMtOoJS8n01OMSJbG)\n",
        "\n",
        "\n",
        "А можем ли мы найти производную функции ошибки по весам и смещениям нейронов для персептрона? Конечно, если только она существует (дифференцируема).\n",
        "\n",
        "Производные можно (а нужно ли?) искать аналитически или численно. В последнем случаем можно заставить это делать компьютер.\n",
        "\n",
        "Неплохое видео по теме https://www.youtube.com/watch?v=pp2FkTqdg9Q\n",
        "https://www.youtube.com/watch?v=f9oDe4Yq4E0\n",
        "\n"
      ]
    },
    {
      "cell_type": "markdown",
      "metadata": {
        "id": "pd7v7qIod9yH"
      },
      "source": [
        "Если б вы потрудились хоть один раз написать градиент для персептрона на листочке, то могли бы заметить, что вычисления производных по разным параметрам имеют общие черты, вычисляя производные для весов нейронов на втором слое, мы будем делать часть вычислений совпадающих с вычислениями производных для весов нейронов третьего слоя и т.п. Это не случайно и определяется структурой связей между нейронами, и такой факт можно использовать для облегчения расчета производных функции ошибки по параметрам. Метод получил названия **метод обратного распространения ошибки** (backpropagation).\n",
        "\n",
        "# Метод обратного распространения ошибки\n",
        "\n",
        "Посмотрим внимательно на то, как разные величины в персептроне зависят друг от друга.\n",
        "\n",
        "![img](https://drive.google.com/uc?id=1mAchMWIB_A0xBfoS7J4AlO_3kn47PgOD)\n",
        "\n",
        "Функция ошибки **E** есть функция от выходов персептрона, обозначим их как \\\\( y_i^M\\\\), i-ый выход в  последнем слое M (это не степень, а индекс), и указаний учителя **t**. От входов, весов и прочего она зависит только косвенно, через выходы персептрона.\n",
        "\n",
        "\\\\( E(y_1^M, y_2^M, y_3^M,…, t) \\\\)\n",
        "\n",
        "Выход \\\\( y_i^m\\\\) любого нейрона m-ого слоя зависит от:\n",
        "- входов в него, т.е. выходов нейронов предыдущего m-1 слоя (для первого слоя - от входов в сеть)\n",
        "- параметров нейрона (веса\\смещения, функция активации).\n",
        "\n",
        "От входов сети, параметров нейронов на предыдущих слоях такие выходы зависят лишь косвенно, через выходы нейронов предыдущего слоя (кроме первого слоя, который напрямую зависит от входов). От выходов и параметров нейронов на этом же или следующих слоях такие выходы не зависят.\n",
        "\n",
        "Это справедливо для любого слоя нейронов m:\n",
        "\n",
        "$$ y_1^m(y_1^{m-1},y_2^{m-1},y_3^{m-1}…,W_1^{m}); \\\\\n",
        "y_2^m(y_1^{m-1},y_2^{m-1},y_3^{m-1}…,W_2^{m}); \\\\\n",
        "y_3^m=... $$\n",
        "\n",
        "( для первого слоя вместо выходов $y_i^0$ берем входы сети $x_i$ )\n",
        "\n",
        "Вид зависимости определен структурой связей персептрона."
      ]
    },
    {
      "cell_type": "markdown",
      "metadata": {
        "id": "XM7WM0vqd9yI"
      },
      "source": [
        "Вспомним уроки математики: \"цепное\" правило для нахождения производной сложной (составной) функции:\n",
        "\n",
        "![img](https://drive.google.com/uc?id=12NvwAG2U-mPvZBKnZFWnxIMamHMwAHwB)\n",
        "\n",
        "А разве у персептрона не так?\n",
        "\n",
        "Так. Например, выход первого нейрона препоследнего слоя является аргументом (входом) для выходов всех нейронов последнего слоя, которые являются аргументами функции ошибки.\n",
        "\n",
        "Тогда по \"цепному\" правилу дифференцирования для любого слоя нейронов, кроме последнего,  можем найти производные функции ошибки по выходам нейронов в нем через производные по всем выходам нейронов в следующем слое."
      ]
    },
    {
      "cell_type": "markdown",
      "metadata": {
        "id": "1KB0zQXmd9yI"
      },
      "source": [
        "$$ \\frac{\\partial E}{\\partial y_i^m}= \\sum_{j=1}^{N_{m+1}} \\frac{\\partial E}{\\partial y_j^{m+1}} * \\frac{\\partial y_j^{m+1}}{\\partial y_i^{m}}  $$\n",
        "\n",
        "Здесь второй множитель в сумме это производные выхода нейрона по его входу, что ищется легко (а ну-ка найдите). Первый множитель - производные ошибки по выходам нейронов следующего слоя.\n",
        "\n",
        "Получается мы можем как-бы в обратную сторону считать производную функции по выходам нейронов: если знаем для последнего, по этой формуле пересчитаем для предпоследнего, а зная для предпоследнего, пересчитаем для пред-предпоследнего слоя и т.д.\n",
        "\n",
        "Для выходов нейронов последнего слоя производные найдем сами, зная вид функции ошибки (а ну-ка найдите для квадратичной функции ошибки).\n",
        "\n",
        "Но нам надо искать производные не по выходам нейронов, а по параметрам (весам и смещениям).\n",
        "\n",
        "Обратим внимание, что вес (смещение) влияет в первую очередь на выход своего нейрона, которому он принадлежит, а потом уж этот выход влияет на выходы нейронов в следующем слое и функцию ошибки. Опять же по правилу дифференцирования сложной функции получаем для любого веса нейрона (и смещения):\n",
        "\n",
        "$$ \\frac{\\partial E}{\\partial w_{ij}^m}=  \\frac{\\partial E}{\\partial y_j^{m}} * \\frac{\\partial y_j^{m}}{\\partial w_{ij}^{m}}  $$\n",
        "\n",
        "Первый множитель берем из предыдущей формулы, второй - производная выхода нейрона по одному из его весов - считается легко (а ну-ка посчитайте).\n",
        "\n",
        "Эти две формулы составляют суть **метода обратного распространения ошибки**, в котором производная ошибки пересчитывается итеративно по слоям, начиная с последнего.  \n",
        "\n",
        "Конечно, нам нет необходимости считать такие производные вручную, это должен делать компьютер, все сводится к умножению и сложению некоторых векторов и матриц.\n",
        "\n",
        "Ровно так и работает обучение нейронных сетей. Метод обратного распространения ошибки для расчета производных очень универсален, для других сетей, в которых нейроны связаны по другому, он также может быть применен, только надо учитывать, как нейроны влияют друг на друга. И даже не для нейронных сетей, а для произвольных вычислений, можно реализовать такой метод, так работает автодифференцирование, пример которого мы видели на прошлом уроке.\n"
      ]
    },
    {
      "cell_type": "markdown",
      "metadata": {
        "id": "WBPhlJBJd9yI"
      },
      "source": [
        "## Проблемы градиентного спуска\n",
        "\n",
        "Градиентный спуск сам по себе не очень хороший метод для обучения, у него есть много проблем, например:\n",
        "- застревает в локальных минимумах: если у функции ошибки несколько минимумов, то дойдя до одного из них, производная станет равна 0 и параметр больше изменяться не будет, но этот минимум может оказаться не самым лучшим.\n",
        "- необходимо задавать начальные значения параметров: вспомните формулу, из \"старых\" значений вычитаем производную, перед началом обучения эти самые \"старые\" значения должны уже быть определены. И от выбора начальных значений параметров будет зависеть результат обучения.\n",
        "- надо задавать величину шага (число \"эта\" в формуле): слишком маленькое - будем очень долго идти к минимуму, очень большое - проскочим его.\n",
        "- и другие\n",
        "\n",
        "Поэтому используют множество разных модификаций градиентного спуска, в которых добавляют новые члены в формулу, придумывают как изменять шаг, как ограничить параметры и прочее.\n",
        "Мы не будем вникать в смысл этих методов, важно что все они основаны на градиентном спуске и используют производную (градиент), вычисляемую с помощью метода обратного распространения ошибки. Можно посмотреть, например, здесь про разные методы: https://ruder.io/optimizing-gradient-descent/  \n",
        "\n",
        "Нет какого-то одного \"лучшего\" метода обучения, придется экспериментировать и использовать различные."
      ]
    },
    {
      "cell_type": "markdown",
      "metadata": {
        "id": "FPHke0fbd9yJ"
      },
      "source": [
        "# Многослойный персептрон в sklearn\n",
        "Но давайте перейдем от сложной теории к практике. Посмотрим как реализуется многослойный персептрон в уже известной нам библиотеке `sklearn`.\n",
        "\n",
        "К слову, а обратили ли вы внимание, что нейрон, если у него выбрать тождественную функцию активации, полностью совпадает с моделью линейной регрессии? Это так и есть.\n",
        "\n",
        "Персептрон реализован в модуле [`.neural_network`](https://scikit-learn.org/stable/modules/classes.html#module-sklearn.neural_network)\n",
        "\n",
        "Есть классификатор [`MLPClassifier`](https://scikit-learn.org/stable/modules/generated/sklearn.neural_network.MLPClassifier.html#sklearn.neural_network.MLPClassifier)\n",
        "и регрессор [`MLPRegressor`](https://scikit-learn.org/stable/modules/generated/sklearn.neural_network.MLPRegressor.html#sklearn.neural_network.MLPRegressor).\n",
        "\n",
        "Обучение ведется в пакетном режиме (вспомните, что это).\n",
        "\n",
        "При создании регрессора `MLPRegressor` можем указать следующие аргументы:\n",
        "* `hidden_layer_sizes` - кортеж, определяющий число нейронов в скрытых слоях, по умолчанию (100,) - один скрытый слой в котором 100 нейронов.\n",
        "* `activation` - название функции активации для скрытых слоев,по умолчанию `relu` - кусочно-линейная функция, можно указать также: `identity` - тождественная,  `logistic` - логистическая сигмоида, `tanh` - гипертангенс.\n",
        "* `solver` - название метода обучения, по умолчанию `adam` одна из лучших модификаций градиентного спуска, можно использовать также `sgd` - градиентный спуск (называют его стохастическим, так как ошибка считается не на всех данных, а только на одном пакете) и `lbfgs` который быстрее для набора данных небольшого объема.\n",
        "* `learning_rate_init` - начальное значение величины шага обучения.  \n",
        "* `max_iter` - максимальное количество эпох обучения, т.е. сколько раз каждый пример данных будет использован в обучении. Напомним, что в пакетном обучении данные разбиваются на группы-пакеты, на каждом пакете происходит обучение, а потом эти же данные еще раз разбиваются на пакеты и процесс повторяется.  \n",
        "* `shuffle` - логическая переменная, которая показывает перемешивать ли данные в пакетах для каждой эпохи или нет (по умолчанию - перемешивать).\n",
        "* `verbose` - выводить ли на экран информацию об обучении.\n",
        "* и другие\n",
        "\n",
        "Создается объект со следующим полями:\n",
        "* `n_layers_` - число слоев сети. Принято входы также включать в слои (но только это не слой нейронов, а слой входов). Число слоев нейронов на единицу меньше, чем это число.\n",
        "* `coefs_` - список, i-ый элемент которого содержит веса связей от i-ого слоя к (i+1)-ому\n",
        "* `intercepts_` - список, i-ый элемент которого содержит смещения (i+1)-ого слоя\n",
        "* `n_outputs_` - число выходов сети\n",
        "* `n_iter_` - число эпох, в течении которых персептрон обучался\n",
        "* `loss_` - достигнутое значение функции ошибки\n",
        "* и другие\n",
        "\n",
        "Объект имеет такие же методы, как и другие модели:\n",
        "* `fit(X, y)` - обучение модели на примерах входа **Х** и указаний учителя **y**. Есть также `partial_fit()`, чтобы обучать на одном примере (онлайн обучение).\n",
        "* `predict(X)` - расчет выходов модели при заданных входах **Х**\n",
        "* `score(X, y)` - расчет величины отклонения выходов от указаний учителя **у** (а именно коэффициент детерминации R2)\n",
        "* и другие\n",
        "\n",
        "\n",
        "У классификатора `MLPClassifier` такие же аргументы, поля и методы, но есть еще\n",
        "* поле  `classes_` - с метками классов\n",
        "* методы `predict_proba(X)` и `predict_log_proba(X)` для расчета вероятностей (уровней уверенности) получения классов (а не их меток)."
      ]
    },
    {
      "cell_type": "code",
      "metadata": {
        "ExecuteTime": {
          "end_time": "2020-10-02T15:15:58.429034Z",
          "start_time": "2020-10-02T15:15:57.138961Z"
        },
        "colab": {
          "base_uri": "https://localhost:8080/"
        },
        "id": "yg5l8qgWd9yJ",
        "outputId": "fef374ea-b1fc-4c7c-a8a0-00787a68ae59"
      },
      "source": [
        "from sklearn.neural_network import MLPRegressor # подключаем модуль\n",
        "from sklearn.datasets import make_regression # функция для генерации данных\n",
        "from sklearn.model_selection import train_test_split # разделение на обучение и тест\n",
        "X, y = make_regression(n_samples=2000, random_state=1) # создаем данные, 2000 примеров\n",
        "X_train, X_test, y_train, y_test = train_test_split(X, y, #\n",
        "                                                    random_state=1) # разбиваем на обучение и тест\n",
        "regr = MLPRegressor(random_state=1,\n",
        "                    hidden_layer_sizes=(15,15,), # количество нейронов в скрытых слоях  (2 скрытых слоя в каждом 10 нейронов)\n",
        "                    #activation='tanh',\n",
        "                    max_iter=5000 # число эпох обучения\n",
        "                    ).fit(X_train, y_train) # создаем и обучаем регрессор из многослойного персептрона\n",
        "pred=regr.predict(X_test) # проверяем на тесте\n",
        "pred_train=regr.predict(X_train)\n",
        "regr.score(X_test, y_test) # смотрим на качество решения"
      ],
      "execution_count": null,
      "outputs": [
        {
          "output_type": "execute_result",
          "data": {
            "text/plain": [
              "0.9934580546670959"
            ]
          },
          "metadata": {},
          "execution_count": 4
        }
      ]
    },
    {
      "cell_type": "markdown",
      "metadata": {
        "id": "J1M8nGGZlAA0"
      },
      "source": [
        "Как видите здесь работа ничем не отличается от других методов. Постройте картинки сравнения предсказанных и истинных значений выходов y для обучения и теста и посмотрите, как влияют параметры числа слоев и нейронов и максимальное число эпох на результат. Добейтесь, чтобы на обучении разница была незаметна."
      ]
    },
    {
      "cell_type": "code",
      "metadata": {
        "colab": {
          "base_uri": "https://localhost:8080/",
          "height": 283
        },
        "id": "8w_1Su4GnXSz",
        "outputId": "9ebc41e5-fd26-47a2-ee12-73ed3c5403ed"
      },
      "source": [
        "# проверка обучения\n",
        "from matplotlib import pyplot as plt\n",
        "plt.scatter(range(1500),y_train,c='blue')\n",
        "plt.scatter(range(1500),pred_train,c='red')"
      ],
      "execution_count": null,
      "outputs": [
        {
          "output_type": "execute_result",
          "data": {
            "text/plain": [
              "<matplotlib.collections.PathCollection at 0x7fa2a9e39fd0>"
            ]
          },
          "metadata": {},
          "execution_count": 5
        },
        {
          "output_type": "display_data",
          "data": {
            "text/plain": [
              "<Figure size 432x288 with 1 Axes>"
            ],
            "image/png": "[encoded data removed]"
          },
          "metadata": {
            "needs_background": "light"
          }
        }
      ]
    },
    {
      "cell_type": "code",
      "metadata": {
        "colab": {
          "base_uri": "https://localhost:8080/",
          "height": 283
        },
        "id": "hE47XKvBlpKY",
        "outputId": "ced55916-a5a2-4d11-de49-330353093b90"
      },
      "source": [
        "# Тест\n",
        "from matplotlib import pyplot as plt\n",
        "plt.scatter(range(500),y_test,c='blue')\n",
        "plt.scatter(range(500),pred,c='red')\n"
      ],
      "execution_count": null,
      "outputs": [
        {
          "output_type": "execute_result",
          "data": {
            "text/plain": [
              "<matplotlib.collections.PathCollection at 0x7fa2a9dade10>"
            ]
          },
          "metadata": {},
          "execution_count": 6
        },
        {
          "output_type": "display_data",
          "data": {
            "text/plain": [
              "<Figure size 432x288 with 1 Axes>"
            ],
            "image/png": "[encoded data removed]"
          },
          "metadata": {
            "needs_background": "light"
          }
        }
      ]
    },
    {
      "cell_type": "code",
      "metadata": {
        "id": "_QNKmOMGmcvS",
        "colab": {
          "base_uri": "https://localhost:8080/"
        },
        "outputId": "2a9b4d03-3ead-4611-fbed-ba169b6053ad"
      },
      "source": [
        "len(regr.coefs_)"
      ],
      "execution_count": null,
      "outputs": [
        {
          "output_type": "execute_result",
          "data": {
            "text/plain": [
              "3"
            ]
          },
          "metadata": {},
          "execution_count": 10
        }
      ]
    },
    {
      "cell_type": "code",
      "source": [
        "regr.coefs_[0].shape"
      ],
      "metadata": {
        "id": "PTFHo5awp1ev",
        "outputId": "ce23436e-7692-412d-f583-bc737545e777",
        "colab": {
          "base_uri": "https://localhost:8080/"
        }
      },
      "execution_count": null,
      "outputs": [
        {
          "output_type": "execute_result",
          "data": {
            "text/plain": [
              "(100, 15)"
            ]
          },
          "metadata": {},
          "execution_count": 12
        }
      ]
    },
    {
      "cell_type": "markdown",
      "source": [
        "# Играем с персептроном. Playground Tensoflow."
      ],
      "metadata": {
        "id": "frEjLQx0luoD"
      }
    },
    {
      "cell_type": "markdown",
      "source": [
        "**Зайдите** на сайт https://playground.tensorflow.org"
      ],
      "metadata": {
        "id": "C8T1fgI-lz7A"
      }
    },
    {
      "cell_type": "markdown",
      "source": [
        "Здесь вы увидите интерактивную реализацию многослойного персептрона.\n",
        "\n",
        "Вы можете выбирать:\n",
        "* решаемую задачу, классификация или регрессия (поле Problem type)\n",
        "* функцию активации, одну для всех нейронов в скрытых слоях (на выходном - линейная), поле Activation\n",
        "* величину шага обучения в методе градиентного спуска, поле Learning rate.\n",
        "* число скрытых слоев, от 0 до 6, поле Hidden layers, нажимайте + или -\n",
        "* число нейронов в каждом слое, от 1 до 8, нажимайте + или -\n",
        "* данные, на которых будет обучаться персептрон. Это двумерные данные, поле DATA (для классификации 1-круг внутри окружности, 2 - 4 квадрата, 3- два отдельных круга, 4 - спираль)\n",
        "* пропорцию, в которой данные будут разделены на обучающие и тестовые, поле Ratio of training to test\n",
        "* уровень шума в данных, когда часть данных будет специально изменена неверным способом, поле Noise\n",
        "* размер пакета (батча), поле Batch size, помните мы говорили о пакетном обучении.\n",
        "\n",
        "Также можно выбрать, что именно будет признаками, т.е. входами в нейронную сеть:\n",
        "* координата X1 точки\n",
        "* координата X2 точки\n",
        "* квадрат координаты X1 точки\n",
        "* квадрат координаты X2 точки\n",
        "* произведение координат X1 и X2 точки\n",
        "* синус координаты X1 точки\n",
        "* синус координаты X2 точки"
      ],
      "metadata": {
        "id": "gTTC__8Yl5Vi"
      }
    },
    {
      "cell_type": "code",
      "source": [],
      "metadata": {
        "id": "Sc6ANKkYlxZU"
      },
      "execution_count": null,
      "outputs": []
    }
  ]
}