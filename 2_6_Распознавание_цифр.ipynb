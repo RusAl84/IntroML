{
  "nbformat": 4,
  "nbformat_minor": 0,
  "metadata": {
    "colab": {
      "provenance": [],
      "include_colab_link": true
    },
    "hide_input": false,
    "kernelspec": {
      "display_name": "Python 3",
      "language": "python",
      "name": "python3"
    },
    "language_info": {
      "codemirror_mode": {
        "name": "ipython",
        "version": 3
      },
      "file_extension": ".py",
      "mimetype": "text/x-python",
      "name": "python",
      "nbconvert_exporter": "python",
      "pygments_lexer": "ipython3",
      "version": "3.7.6"
    },
    "latex_envs": {
      "LaTeX_envs_menu_present": true,
      "autoclose": false,
      "autocomplete": true,
      "bibliofile": "biblio.bib",
      "cite_by": "apalike",
      "current_citInitial": 1,
      "eqLabelWithNumbers": true,
      "eqNumInitial": 1,
      "hotkeys": {
        "equation": "Ctrl-E",
        "itemize": "Ctrl-I"
      },
      "labels_anchors": false,
      "latex_user_defs": false,
      "report_style_numbering": false,
      "user_envs_cfg": false
    },
    "nbTranslate": {
      "displayLangs": [
        "*"
      ],
      "hotkey": "alt-t",
      "langInMainMenu": true,
      "sourceLang": "en",
      "targetLang": "fr",
      "useGoogleTranslate": true
    },
    "varInspector": {
      "cols": {
        "lenName": 16,
        "lenType": 16,
        "lenVar": 40
      },
      "kernels_config": {
        "python": {
          "delete_cmd_postfix": "",
          "delete_cmd_prefix": "del ",
          "library": "var_list.py",
          "varRefreshCmd": "print(var_dic_list())"
        },
        "r": {
          "delete_cmd_postfix": ") ",
          "delete_cmd_prefix": "rm(",
          "library": "var_list.r",
          "varRefreshCmd": "cat(var_dic_list()) "
        }
      },
      "types_to_exclude": [
        "module",
        "function",
        "builtin_function_or_method",
        "instance",
        "_Feature"
      ],
      "window_display": false
    }
  },
  "cells": [
    {
      "cell_type": "markdown",
      "metadata": {
        "id": "view-in-github",
        "colab_type": "text"
      },
      "source": [
        "<a href=\"https://colab.research.google.com/github/RusAl84/IntroML/blob/master/2_6_%D0%A0%D0%B0%D1%81%D0%BF%D0%BE%D0%B7%D0%BD%D0%B0%D0%B2%D0%B0%D0%BD%D0%B8%D0%B5_%D1%86%D0%B8%D1%84%D1%80.ipynb\" target=\"_parent\"><img src=\"https://colab.research.google.com/assets/colab-badge.svg\" alt=\"Open In Colab\"/></a>"
      ]
    },
    {
      "cell_type": "markdown",
      "metadata": {
        "id": "ia1oj34vAtDv"
      },
      "source": [
        "# Сверточная нейронная сеть для распознавания рукописных цифр MNIST на Keras\n"
      ]
    },
    {
      "cell_type": "markdown",
      "metadata": {
        "id": "ZHW0ooj8AtDy"
      },
      "source": [
        "## Подключение\n",
        "Сначала подключим все необходимые библиотеки, numpy, keras из tensorflow и слои layers из него. Не пугайтесь предупреждений Warning, они ничего не испортят."
      ]
    },
    {
      "cell_type": "code",
      "metadata": {
        "ExecuteTime": {
          "end_time": "2020-10-11T19:57:57.909310Z",
          "start_time": "2020-10-11T19:57:55.743186Z"
        },
        "id": "2mHI_e7BAtD0"
      },
      "source": [
        "import numpy as np\n",
        "from tensorflow import keras\n",
        "from tensorflow.keras import layers"
      ],
      "execution_count": null,
      "outputs": []
    },
    {
      "cell_type": "markdown",
      "metadata": {
        "id": "1-CRQgX6AtD-"
      },
      "source": [
        "## Подготовка данных\n",
        "Сначала нужно подготовить все необходимые данные, к счастью данные об изображениях рукописных цифр и их названий уже есть в Keras, загрузим их командой `keras.datasets.mnist.load_data()`. Это займет некоторое время."
      ]
    },
    {
      "cell_type": "code",
      "metadata": {
        "ExecuteTime": {
          "end_time": "2020-10-11T19:58:07.003830Z",
          "start_time": "2020-10-11T19:58:06.743815Z"
        },
        "id": "_gm_9ppWAtD_",
        "colab": {
          "base_uri": "https://localhost:8080/"
        },
        "outputId": "1f4ed4f8-ef3c-4b76-fcf0-31c1dbd5172f"
      },
      "source": [
        "# Гиперпараметры модели\n",
        "num_classes = 10 # число классов - число цифр\n",
        "input_shape = (28, 28, 1) # размер изображений цифр, они не цветные, поэтому канал 1.\n",
        "\n",
        "# загружаем данные (изображения и их классы), отдельно обучающие и тестовые\n",
        "(x_train, y_train), (x_test, y_test) = keras.datasets.mnist.load_data() #"
      ],
      "execution_count": null,
      "outputs": [
        {
          "output_type": "stream",
          "name": "stdout",
          "text": [
            "Downloading data from https://storage.googleapis.com/tensorflow/tf-keras-datasets/mnist.npz\n",
            "11493376/11490434 [==============================] - 0s 0us/step\n",
            "11501568/11490434 [==============================] - 0s 0us/step\n"
          ]
        }
      ]
    },
    {
      "cell_type": "code",
      "metadata": {
        "ExecuteTime": {
          "end_time": "2020-10-11T19:58:09.389967Z",
          "start_time": "2020-10-11T19:58:09.382966Z"
        },
        "colab": {
          "base_uri": "https://localhost:8080/"
        },
        "id": "OON_kUBhwkoZ",
        "outputId": "a5c78125-f4b8-46e0-eca7-1580fe05aaf6"
      },
      "source": [
        "# это массивы numpy, посмотрите их размеры\n",
        "print(x_train.shape)\n",
        "print(y_train.shape)"
      ],
      "execution_count": null,
      "outputs": [
        {
          "output_type": "stream",
          "name": "stdout",
          "text": [
            "(60000, 28, 28)\n",
            "(60000,)\n"
          ]
        }
      ]
    },
    {
      "cell_type": "markdown",
      "metadata": {
        "id": "c9lkBVMrwkoc"
      },
      "source": [
        "Изображения - массивы целых чисел от 0 до 255, для обучения их нужно перевести в числа с плавающей точкой (float) в диапазон [0 , 1]\n"
      ]
    },
    {
      "cell_type": "code",
      "metadata": {
        "ExecuteTime": {
          "end_time": "2020-10-11T19:58:11.035061Z",
          "start_time": "2020-10-11T19:58:10.880052Z"
        },
        "colab": {
          "base_uri": "https://localhost:8080/"
        },
        "id": "9HA9Zt4ewkoc",
        "outputId": "5755c300-7991-4e46-bf41-b3dae78f6f8f"
      },
      "source": [
        "# Преобразуем во float и диапазон [0, 1]\n",
        "x_train = x_train.astype(\"float32\") / 255 #\n",
        "x_test = x_test.astype(\"float32\") / 255 #\n",
        "# на всякий случай принудительно сделаем размер (28, 28, 1)\n",
        "x_train = np.expand_dims(x_train, -1) # для обучающих\n",
        "x_test = np.expand_dims(x_test, -1) # для тестовых\n",
        "print(\"x_train shape:\", x_train.shape) # размер массива\n",
        "print(x_train.shape[0], \"train samples\") # число примеров обучения\n",
        "print(x_test.shape[0], \"test samples\") # число примеров теста"
      ],
      "execution_count": null,
      "outputs": [
        {
          "output_type": "stream",
          "name": "stdout",
          "text": [
            "x_train shape: (60000, 28, 28, 1)\n",
            "60000 train samples\n",
            "10000 test samples\n"
          ]
        }
      ]
    },
    {
      "cell_type": "markdown",
      "metadata": {
        "id": "Rk-umUStwkoe"
      },
      "source": [
        "Для классификации нужно как-то закодировать классы. Самый распространенный способ - унитарное кодирование (по-английски one-hot encoding), когда класс кодируется вектором (или строкой) из нулей и одной единички, положение единички показывает номер класса. Размер вектора равен числу классов. Пример для трех классов показан на рисунке: красный кодируется как (1 0 0), синий - (0 1 0), зеленый - (0 0 1).\n",
        ".\n",
        "![img](https://drive.google.com/uc?id=1mJSaXPnyc8fhUJ8-cWwFkhBljJKmt40b)\n",
        "\n",
        "В нашем случае 10 классов, значит надо использовать 10-мерные вектора. Для этого есть вспомогательная функция `keras.utils.to_categorical`"
      ]
    },
    {
      "cell_type": "code",
      "metadata": {
        "ExecuteTime": {
          "end_time": "2020-10-11T19:58:14.951285Z",
          "start_time": "2020-10-11T19:58:14.938284Z"
        },
        "id": "fpjvW5vLwkoe"
      },
      "source": [
        "# переводим метки классов в унитарные вектора\n",
        "y_train = keras.utils.to_categorical(y_train, num_classes) # обучающие\n",
        "y_test = keras.utils.to_categorical(y_test, num_classes) # тестовые"
      ],
      "execution_count": null,
      "outputs": []
    },
    {
      "cell_type": "code",
      "source": [
        "y_test[0]"
      ],
      "metadata": {
        "colab": {
          "base_uri": "https://localhost:8080/"
        },
        "id": "50vfcqKX-1_o",
        "outputId": "242491c4-cc9e-463b-f2a3-911782e5ece9"
      },
      "execution_count": null,
      "outputs": [
        {
          "output_type": "execute_result",
          "data": {
            "text/plain": [
              "array([0., 0., 0., 0., 0., 0., 0., 1., 0., 0.], dtype=float32)"
            ]
          },
          "metadata": {},
          "execution_count": 6
        }
      ]
    },
    {
      "cell_type": "code",
      "metadata": {
        "ExecuteTime": {
          "end_time": "2020-10-11T19:58:15.781332Z",
          "start_time": "2020-10-11T19:58:15.772332Z"
        },
        "colab": {
          "base_uri": "https://localhost:8080/"
        },
        "id": "MhdontTJwkog",
        "outputId": "c582e417-5347-4c48-aa2b-accd0f822aaf"
      },
      "source": [
        "print(y_train.shape) # размер массива\n",
        "print(y_train[0]) # первый элемент его"
      ],
      "execution_count": null,
      "outputs": [
        {
          "output_type": "stream",
          "name": "stdout",
          "text": [
            "(60000, 10)\n",
            "[0. 0. 0. 0. 0. 1. 0. 0. 0. 0.]\n"
          ]
        }
      ]
    },
    {
      "cell_type": "markdown",
      "metadata": {
        "id": "f-qt28RLAtEE"
      },
      "source": [
        "## Создание нейронной сети\n",
        "Надо указать какие слои есть в нейронной сети и параметры этих слоев, если нужны.\n",
        "Мы строим простую сеть, в которой слои будут идти последовательно, для чего используется контейнер `keras.Sequential()` (но бывают сети с разветвленной структурой, для них по-другому)."
      ]
    },
    {
      "cell_type": "code",
      "metadata": {
        "ExecuteTime": {
          "end_time": "2020-10-11T19:58:18.108465Z",
          "start_time": "2020-10-11T19:58:17.986458Z"
        },
        "id": "Fv3d1BeWAtEG"
      },
      "source": [
        "# задаем последовательную модель\n",
        "model = keras.Sequential( # слои перечисляются ниже\n",
        "    [\n",
        "        # слой входов (это не нейроны, а именно входы, т.е. данные), указываем размер shape\n",
        "        keras.Input(shape=input_shape),\n",
        "        # первый сверточный слой, указываем число фильтров (32), размер ядра (3 на 3), функцию активации (relu)\n",
        "        layers.Conv2D(32, kernel_size=(3, 3), activation=\"relu\"),\n",
        "        # слой пулинга, не обучаемый, но позволит уменьшить размер. указываем размер ядра пулинга (2 на 2)\n",
        "        layers.MaxPooling2D(pool_size=(2, 2)), #\n",
        "        # второй сверточный слой, указываем число фильтров (64), размер ядра (3 на 3), функцию активации (relu)\n",
        "        layers.Conv2D(64, kernel_size=(3, 3), activation=\"relu\"), #\n",
        "        # снова пулинг, после этого слоя размер массива выхода уже не большой\n",
        "        layers.MaxPooling2D(pool_size=(2, 2)), #\n",
        "        # слой \"выпрямления\", когда массив вытягивается в вектор, просто изменяет форму массива,\n",
        "        # нужен чтобы массивы были подходящей размерности.\n",
        "        layers.Flatten(), #\n",
        "        # слой дропаута, будет при обучении случайно удалять связи, указываем вероятность удаления связи от 0 до 1 (0.5)\n",
        "        layers.Dropout(0.5), #\n",
        "        # полносвязный слой как в персептроне, размер его равен числу классов, функция активации softmax\n",
        "        layers.Dense(num_classes, activation=\"softmax\"), #\n",
        "    ]\n",
        ")"
      ],
      "execution_count": null,
      "outputs": []
    },
    {
      "cell_type": "markdown",
      "metadata": {
        "id": "5oznGPeEwkoj"
      },
      "source": [
        "Посмотрим на созданную сеть, особенно обратите внимание на размерности массивов выхода и число обучающих параметров в слое (первый None относится к числу обучающих примеров, вход  не показан, функции активации не показаны)."
      ]
    },
    {
      "cell_type": "code",
      "metadata": {
        "ExecuteTime": {
          "end_time": "2020-10-11T19:58:21.639667Z",
          "start_time": "2020-10-11T19:58:21.634667Z"
        },
        "colab": {
          "base_uri": "https://localhost:8080/"
        },
        "id": "JNug_Ld4wkok",
        "outputId": "3b5f8f07-c0ad-4989-9f2c-de53a9864e0b"
      },
      "source": [
        "model.summary() # информация о созданной сети"
      ],
      "execution_count": null,
      "outputs": [
        {
          "output_type": "stream",
          "name": "stdout",
          "text": [
            "Model: \"sequential\"\n",
            "_________________________________________________________________\n",
            " Layer (type)                Output Shape              Param #   \n",
            "=================================================================\n",
            " conv2d (Conv2D)             (None, 26, 26, 32)        320       \n",
            "                                                                 \n",
            " max_pooling2d (MaxPooling2D  (None, 13, 13, 32)       0         \n",
            " )                                                               \n",
            "                                                                 \n",
            " conv2d_1 (Conv2D)           (None, 11, 11, 64)        18496     \n",
            "                                                                 \n",
            " max_pooling2d_1 (MaxPooling  (None, 5, 5, 64)         0         \n",
            " 2D)                                                             \n",
            "                                                                 \n",
            " flatten (Flatten)           (None, 1600)              0         \n",
            "                                                                 \n",
            " dropout (Dropout)           (None, 1600)              0         \n",
            "                                                                 \n",
            " dense (Dense)               (None, 10)                16010     \n",
            "                                                                 \n",
            "=================================================================\n",
            "Total params: 34,826\n",
            "Trainable params: 34,826\n",
            "Non-trainable params: 0\n",
            "_________________________________________________________________\n"
          ]
        }
      ]
    },
    {
      "cell_type": "markdown",
      "metadata": {
        "id": "B-0KnLVKwkok"
      },
      "source": [
        "## Обучение сети\n",
        "Сеть создана, теперь ее надо обучить.\n",
        "\n",
        "Необходимо указать какая используется функция ошибки, метод обучения и его параметры, метрика для проверки.\n",
        "\n",
        "Для задания параметров обучения используем метод `.compile()`.\n",
        "\n",
        "Для обучения - метод `.fit()`. Здесь часть данных может быть использована для проверки (validation) работы сети, чтобы в случае если вдруг ошибка обобщения начала увеличиваться, то остановить процесс и не испортить уже достигнутой точности.\n",
        "\n",
        "О возможных вариантах слоев, функций ошибки, методов обучения и метрик смотри [справку](https://keras.io/api/).\n",
        "\n",
        "Обучение - медленный процесс, ждите..."
      ]
    },
    {
      "cell_type": "code",
      "metadata": {
        "ExecuteTime": {
          "end_time": "2020-10-11T20:02:36.092221Z",
          "start_time": "2020-10-11T19:58:26.288933Z"
        },
        "colab": {
          "base_uri": "https://localhost:8080/"
        },
        "id": "n2lSVa94wkol",
        "outputId": "7702c13c-35df-4b40-827f-484c5f7aa9b9"
      },
      "source": [
        "batch_size = 128 # размер пакета (batch)\n",
        "epochs = 15 # количество эпох обучения\n",
        "\n",
        "# задаем функцию ошибки, метод обучения и метрику проверки\n",
        "model.compile(\n",
        "    loss=\"categorical_crossentropy\", # кросс-энтропия, одна из возможных функций ошибки, часто используется для классификации\n",
        "    optimizer=\"adam\", # метод обучения Adam - модификация градиентного спуска\n",
        "    metrics=[\"accuracy\"]) # метрика accuracy\n",
        "# запускаем обучение ~ 15 минут\n",
        "model.fit(\n",
        "    x_train, # входные обучающие данные\n",
        "    y_train, # желаемые выходные данные (указания учителя)\n",
        "    batch_size=batch_size, # размер пакета\n",
        "    epochs=epochs, # максимальное число эпох обучения\n",
        "    validation_split=0.1) # доля данных, отданных на проверку"
      ],
      "execution_count": null,
      "outputs": [
        {
          "output_type": "stream",
          "name": "stdout",
          "text": [
            "Epoch 1/15\n",
            "422/422 [==============================] - 38s 89ms/step - loss: 0.3725 - accuracy: 0.8855 - val_loss: 0.0916 - val_accuracy: 0.9740\n",
            "Epoch 2/15\n",
            "422/422 [==============================] - 39s 93ms/step - loss: 0.1188 - accuracy: 0.9636 - val_loss: 0.0629 - val_accuracy: 0.9825\n",
            "Epoch 3/15\n",
            "422/422 [==============================] - 38s 91ms/step - loss: 0.0875 - accuracy: 0.9725 - val_loss: 0.0473 - val_accuracy: 0.9863\n",
            "Epoch 4/15\n",
            "422/422 [==============================] - 38s 89ms/step - loss: 0.0731 - accuracy: 0.9779 - val_loss: 0.0454 - val_accuracy: 0.9877\n",
            "Epoch 5/15\n",
            "422/422 [==============================] - 38s 89ms/step - loss: 0.0663 - accuracy: 0.9795 - val_loss: 0.0424 - val_accuracy: 0.9867\n",
            "Epoch 6/15\n",
            "422/422 [==============================] - 42s 99ms/step - loss: 0.0586 - accuracy: 0.9816 - val_loss: 0.0359 - val_accuracy: 0.9898\n",
            "Epoch 7/15\n",
            "422/422 [==============================] - 39s 92ms/step - loss: 0.0536 - accuracy: 0.9832 - val_loss: 0.0319 - val_accuracy: 0.9908\n",
            "Epoch 8/15\n",
            "422/422 [==============================] - 37s 88ms/step - loss: 0.0503 - accuracy: 0.9839 - val_loss: 0.0319 - val_accuracy: 0.9902\n",
            "Epoch 9/15\n",
            "422/422 [==============================] - 37s 88ms/step - loss: 0.0444 - accuracy: 0.9859 - val_loss: 0.0312 - val_accuracy: 0.9912\n",
            "Epoch 10/15\n",
            "422/422 [==============================] - 37s 88ms/step - loss: 0.0436 - accuracy: 0.9862 - val_loss: 0.0303 - val_accuracy: 0.9918\n",
            "Epoch 11/15\n",
            "422/422 [==============================] - 37s 88ms/step - loss: 0.0415 - accuracy: 0.9865 - val_loss: 0.0284 - val_accuracy: 0.9923\n",
            "Epoch 12/15\n",
            "422/422 [==============================] - 38s 91ms/step - loss: 0.0401 - accuracy: 0.9873 - val_loss: 0.0288 - val_accuracy: 0.9918\n",
            "Epoch 13/15\n",
            "422/422 [==============================] - 37s 89ms/step - loss: 0.0350 - accuracy: 0.9889 - val_loss: 0.0261 - val_accuracy: 0.9930\n",
            "Epoch 14/15\n",
            "422/422 [==============================] - 37s 89ms/step - loss: 0.0369 - accuracy: 0.9877 - val_loss: 0.0275 - val_accuracy: 0.9915\n",
            "Epoch 15/15\n",
            "422/422 [==============================] - 37s 88ms/step - loss: 0.0332 - accuracy: 0.9893 - val_loss: 0.0291 - val_accuracy: 0.9913\n"
          ]
        },
        {
          "output_type": "execute_result",
          "data": {
            "text/plain": [
              "<keras.callbacks.History at 0x7ff7d63c7490>"
            ]
          },
          "metadata": {},
          "execution_count": 10
        }
      ]
    },
    {
      "cell_type": "markdown",
      "metadata": {
        "id": "ZcauC-0gAtES"
      },
      "source": [
        "## Проверка работы модели\n",
        "Обучив сеть, давайте для тестовых данных, на которых мы не обучались, определим их классы и сравним с настоящими. Для этого используется метод `.evaluate()`"
      ]
    },
    {
      "cell_type": "code",
      "metadata": {
        "ExecuteTime": {
          "end_time": "2020-10-11T20:07:33.018204Z",
          "start_time": "2020-10-11T20:07:32.160155Z"
        },
        "id": "JLFrHxgEAtET",
        "colab": {
          "base_uri": "https://localhost:8080/"
        },
        "outputId": "0b3278df-65d0-49f5-97ee-91c7d4642899"
      },
      "source": [
        "score = model.evaluate(x_test, y_test, verbose=0) # оцениваем нашу модель (verbose=0 подавляет вывод на экран)\n",
        "print(\"Test loss:\", score[0]) # функция ошибки на тестовых данных\n",
        "print(\"Test accuracy:\", score[1]) # метрика (из заданных, у нас accuracy) на тестовых данных\n"
      ],
      "execution_count": null,
      "outputs": [
        {
          "output_type": "stream",
          "name": "stdout",
          "text": [
            "Test loss: 0.024292200803756714\n",
            "Test accuracy: 0.9918000102043152\n"
          ]
        }
      ]
    },
    {
      "cell_type": "markdown",
      "metadata": {
        "id": "4q2AYfwtwkon"
      },
      "source": [
        "Все замечательно обучилось.\n",
        "\n",
        "Давайте построим несколько картинок.\n",
        "\n",
        "Чтобы рассчитать выход обученной сети по известному входу используем метод `.predict()`.\n",
        "Он вернет нам вектор выхода.\n",
        "\n",
        "Если нам нужен номер класса, а не его вектор, то можно использовать метод `.predict_classes()`, но осторожно, эта функция почему-то не документирована.   "
      ]
    },
    {
      "cell_type": "code",
      "metadata": {
        "ExecuteTime": {
          "end_time": "2020-10-11T20:43:35.289879Z",
          "start_time": "2020-10-11T20:43:35.139871Z"
        },
        "colab": {
          "base_uri": "https://localhost:8080/",
          "height": 293
        },
        "id": "KLyebTKcwkon",
        "outputId": "bd9d314e-a3ae-4519-bfb7-e4031398c804"
      },
      "source": [
        "test_example=100 # индекс примера\n",
        "test_input=x_test[test_example:test_example+1] # изображение этого примера\n",
        "#test_output=model.predict(test_input)#\n",
        "# test_output=model.predict_classes(test_input)# распознанный класс для него /больше не работает!!\n",
        "test_output=np.argmax(model.predict(test_input), axis=-1)\n",
        "from matplotlib import pyplot as plt  #\n",
        "plt.matshow(test_input[0,:,:,0]) # рисуем матрицу как изображение. Для этой команды нужно подавать двумерный массив\n",
        "print('Это цифра',test_output) # выводим номер класса, он же название цифры"
      ],
      "execution_count": null,
      "outputs": [
        {
          "output_type": "stream",
          "name": "stdout",
          "text": [
            "Это цифра [6]\n"
          ]
        },
        {
          "output_type": "display_data",
          "data": {
            "text/plain": [
              "<Figure size 288x288 with 1 Axes>"
            ],
            "image/png": "[encoded data removed]"
          },
          "metadata": {
            "needs_background": "light"
          }
        }
      ]
    },
    {
      "cell_type": "markdown",
      "metadata": {
        "id": "_IwEWT5Vwkoo"
      },
      "source": [
        "# Задания\n",
        "Изменяйте слои, их параметры, смотрите как это влияет на обучение. Например, удалите dropout слой.\n"
      ]
    },
    {
      "cell_type": "markdown",
      "source": [
        "# Ссылки\n",
        "Использованы и адаптированы [материалы](https://keras.io/examples/vision/mnist_convnet/) документации [Keras](https://keras.io/)"
      ],
      "metadata": {
        "id": "9uCu3y44wN0a"
      }
    },
    {
      "cell_type": "code",
      "source": [],
      "metadata": {
        "id": "BuqGXuNAwRHJ"
      },
      "execution_count": null,
      "outputs": []
    }
  ]
}